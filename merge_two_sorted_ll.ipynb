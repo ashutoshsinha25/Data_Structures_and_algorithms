{
 "cells": [
  {
   "cell_type": "code",
   "execution_count": 7,
   "metadata": {},
   "outputs": [
    {
     "name": "stdout",
     "output_type": "stream",
     "text": [
      "1 3 4 5 7 -1\n",
      "2 4 6 7 9 -1\n",
      "1 2 3 4 4 5 6 7 7 9 \n"
     ]
    }
   ],
   "source": [
    "class Node:\n",
    "    def __init__(self, data):\n",
    "        self.data = data\n",
    "        self.next = None\n",
    "    \n",
    "\n",
    "def ll(arr):\n",
    "    if len(arr)==0:\n",
    "        return None\n",
    "    head = Node(arr[0])\n",
    "    last = head\n",
    "    for data in arr[1:]:\n",
    "        last.next = Node(data)\n",
    "        last = last.next\n",
    "    return head\n",
    "\n",
    "def printll(head):\n",
    "    while head:\n",
    "        print(head.data, end=' ')\n",
    "        head = head.next\n",
    "    print()\n",
    "\n",
    "\n",
    "def mergeSortLL(head1, head2):\n",
    "    h1 = head1\n",
    "    h2 = head2\n",
    "    \n",
    "    finalHead = None\n",
    "    finalTail = None\n",
    "    \n",
    "    \n",
    "    if h1.data < h2.data:\n",
    "        finalHead = h1\n",
    "        finalTail = h1\n",
    "        h1 = h1.next\n",
    "        \n",
    "    else:\n",
    "        finalHead = h2\n",
    "        finalTail = h2\n",
    "        h2 = h2.next\n",
    "        \n",
    "    while h1 is not None and h2 is not None:\n",
    "        if h1.data < h2.data:\n",
    "            finalTail.next = h1\n",
    "            finalTail = finalTail.next\n",
    "            h1 = h1.next\n",
    "        else:\n",
    "            finalTail.next = h2\n",
    "            finalTail = finalTail.next\n",
    "            h2 = h2.next\n",
    "            \n",
    "    if h1 is not None:\n",
    "        finalTail.next = h1\n",
    "    else:\n",
    "        finalTail.next = h2\n",
    "    return finalHead\n",
    "        \n",
    "        \n",
    "arr1=list(int(i) for i in input().strip().split(' '))\n",
    "arr2=list(int(i) for i in input().strip().split(' '))\n",
    "\n",
    "\n",
    "head1 = ll(arr1[:-1])\n",
    "head2 = ll(arr2[:-1])\n",
    "\n",
    "head = mergeSortLL(head1, head2)\n",
    "printll(head)"
   ]
  },
  {
   "cell_type": "code",
   "execution_count": null,
   "metadata": {},
   "outputs": [],
   "source": []
  }
 ],
 "metadata": {
  "kernelspec": {
   "display_name": "Python 3",
   "language": "python",
   "name": "python3"
  },
  "language_info": {
   "codemirror_mode": {
    "name": "ipython",
    "version": 3
   },
   "file_extension": ".py",
   "mimetype": "text/x-python",
   "name": "python",
   "nbconvert_exporter": "python",
   "pygments_lexer": "ipython3",
   "version": "3.7.4"
  }
 },
 "nbformat": 4,
 "nbformat_minor": 2
}
