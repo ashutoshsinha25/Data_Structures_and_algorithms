{
 "cells": [
  {
   "cell_type": "code",
   "execution_count": 2,
   "metadata": {},
   "outputs": [
    {
     "name": "stdout",
     "output_type": "stream",
     "text": [
      "1894439258440\n"
     ]
    }
   ],
   "source": [
    "a = [1, 2, 3, 4, 5, 6, 7]\n",
    "print(id(a))\n",
    "pivot = 2\n",
    "\n",
    "for i in range(pivot):\n",
    "    \n",
    "    j = 0\n",
    "    x = len(a)-1\n",
    "    \n",
    "    while j < x:\n",
    "        a[j], a[j+1] = a[j+1], a[j]\n",
    "        \n",
    "        j += 1"
   ]
  },
  {
   "cell_type": "code",
   "execution_count": 3,
   "metadata": {},
   "outputs": [],
   "source": [
    "def Rotate(arr, d):\n",
    "    \n",
    "    x = len(arr)\n",
    "    k = arr[:d]\n",
    "    y = len(k)\n",
    "\n",
    "    for i in range(d, x):\n",
    "        arr[i-d] = arr[i]\n",
    "\n",
    "    for i in range(y):\n",
    "        arr[-1-i] = k[-1-i]"
   ]
  },
  {
   "cell_type": "code",
   "execution_count": null,
   "metadata": {},
   "outputs": [],
   "source": []
  }
 ],
 "metadata": {
  "kernelspec": {
   "display_name": "Python 3",
   "language": "python",
   "name": "python3"
  },
  "language_info": {
   "codemirror_mode": {
    "name": "ipython",
    "version": 3
   },
   "file_extension": ".py",
   "mimetype": "text/x-python",
   "name": "python",
   "nbconvert_exporter": "python",
   "pygments_lexer": "ipython3",
   "version": "3.7.4"
  }
 },
 "nbformat": 4,
 "nbformat_minor": 2
}
