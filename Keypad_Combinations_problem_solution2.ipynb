{
 "cells": [
  {
   "cell_type": "code",
   "execution_count": 3,
   "metadata": {},
   "outputs": [],
   "source": [
    "def keypadCombo(num, output, d):\n",
    "    \n",
    "    if num == 0:\n",
    "        print(output)\n",
    "        return\n",
    "    \n",
    "    frontDigits = num // 10\n",
    "    lastDigits = num % 10\n",
    "    \n",
    "    currCombo = d[lastDigits]\n",
    "    for i in currCombo:\n",
    "        keypadCombo(frontDigits, i + output, d)"
   ]
  },
  {
   "cell_type": "code",
   "execution_count": 5,
   "metadata": {},
   "outputs": [
    {
     "name": "stdout",
     "output_type": "stream",
     "text": [
      "ad\n",
      "bd\n",
      "cd\n",
      "ae\n",
      "be\n",
      "ce\n",
      "af\n",
      "bf\n",
      "cf\n"
     ]
    }
   ],
   "source": [
    "d = {0: \"\", 1: \"\", 2:\"abc\", 3:\"def\", 4:\"ghi\", 5:\"jkl\", \n",
    "     6:\"mno\", 7:\"pqrs\", 8:\"tuv\", 9: \"wxyz\"}\n",
    "\n",
    "num = 23\n",
    "output = \"\"\n",
    "keypadCombo(num, output, d)"
   ]
  },
  {
   "cell_type": "code",
   "execution_count": null,
   "metadata": {},
   "outputs": [],
   "source": []
  }
 ],
 "metadata": {
  "kernelspec": {
   "display_name": "Python 3",
   "language": "python",
   "name": "python3"
  },
  "language_info": {
   "codemirror_mode": {
    "name": "ipython",
    "version": 3
   },
   "file_extension": ".py",
   "mimetype": "text/x-python",
   "name": "python",
   "nbconvert_exporter": "python",
   "pygments_lexer": "ipython3",
   "version": "3.7.4"
  }
 },
 "nbformat": 4,
 "nbformat_minor": 2
}
