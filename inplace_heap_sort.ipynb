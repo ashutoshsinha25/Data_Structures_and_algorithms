{
 "cells": [
  {
   "cell_type": "code",
   "execution_count": 184,
   "metadata": {},
   "outputs": [
    {
     "name": "stdout",
     "output_type": "stream",
     "text": [
      "1 2 3\n",
      "3 2 1 "
     ]
    }
   ],
   "source": [
    "class PriorityQueueNode:\n",
    "    def __init__(self,ele,priority):\n",
    "        self.ele = ele\n",
    "        self.priority = priority\n",
    "\n",
    "class PriorityQueue:\n",
    "    def __init__(self):\n",
    "        self.pq = [PriorityQueueNode(int(i), int(i)) for i in input().split()]\n",
    "    \n",
    "    def isEmpty(self):\n",
    "        return self.getSize() == 0\n",
    "    \n",
    "    def getSize(self):\n",
    "        return len(self.pq)\n",
    "\n",
    "    def getMin(self):\n",
    "        if self.isEmpty():\n",
    "            return None\n",
    "        return self.pq[0].ele\n",
    "    \n",
    "    \n",
    "    def __percolateDownFull(self, start, end):\n",
    "        \n",
    "        parentIndex = start\n",
    "        leftChildIndex = (2 * parentIndex) + 1\n",
    "        rightChildIndex = (2 * parentIndex) + 2\n",
    "        \n",
    "        while leftChildIndex < end:\n",
    "            \n",
    "            minIndex = parentIndex\n",
    "            if self.pq[minIndex].priority > self.pq[leftChildIndex].priority:\n",
    "                minIndex = leftChildIndex\n",
    "                \n",
    "            if rightChildIndex < end and self.pq[minIndex].priority > self.pq[rightChildIndex].priority:\n",
    "                minIndex = rightChildIndex\n",
    "                \n",
    "            if minIndex == parentIndex:\n",
    "                break\n",
    "                \n",
    "            self.pq[parentIndex], self.pq[minIndex] = self.pq[minIndex], self.pq[parentIndex]\n",
    "            parentIndex = minIndex\n",
    "            leftChildIndex = (2 * parentIndex) + 1\n",
    "            rightChildIndex = (2 * parentIndex) + 2\n",
    "            \n",
    "    \n",
    "    \n",
    "    def buildHeap(self):\n",
    "        n = (self.getSize() // 2)  - 1\n",
    "        while n >= 0:\n",
    "            self.__percolateDownFull(n, self.getSize())\n",
    "            n -= 1\n",
    "            \n",
    "\n",
    "    def sortHeap(self):\n",
    "        n = self.getSize() - 1\n",
    "        \n",
    "        while n >= 0:\n",
    "            self.pq[0], self.pq[n] = self.pq[n], self.pq[0]\n",
    "            n -= 1\n",
    "            self.__percolateDownFull(0, n+1)\n",
    "        \n",
    "        for i in self.pq:\n",
    "            print(i.ele, end = \" \")\n",
    "            \n",
    "            \n",
    "pq = PriorityQueue()\n",
    "pq.buildHeap()\n",
    "pq.sortHeap()"
   ]
  },
  {
   "cell_type": "code",
   "execution_count": null,
   "metadata": {},
   "outputs": [],
   "source": []
  },
  {
   "cell_type": "code",
   "execution_count": null,
   "metadata": {},
   "outputs": [],
   "source": []
  }
 ],
 "metadata": {
  "kernelspec": {
   "display_name": "Python 3",
   "language": "python",
   "name": "python3"
  },
  "language_info": {
   "codemirror_mode": {
    "name": "ipython",
    "version": 3
   },
   "file_extension": ".py",
   "mimetype": "text/x-python",
   "name": "python",
   "nbconvert_exporter": "python",
   "pygments_lexer": "ipython3",
   "version": "3.7.4"
  }
 },
 "nbformat": 4,
 "nbformat_minor": 2
}
