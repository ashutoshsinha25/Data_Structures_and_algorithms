{
 "cells": [
  {
   "cell_type": "code",
   "execution_count": 90,
   "metadata": {},
   "outputs": [],
   "source": [
    "def power(x, n):\n",
    "    if n <= 0:\n",
    "        return 1\n",
    "    \n",
    "    elif n == 1:\n",
    "        return x\n",
    "    \n",
    "    elif n >= 2:\n",
    "        #go full deep but twice as faster and result is \n",
    "        #twice that\n",
    "        return (x * x) * power(x, n - 2)"
   ]
  },
  {
   "cell_type": "code",
   "execution_count": 91,
   "metadata": {},
   "outputs": [
    {
     "data": {
      "text/plain": [
       "205891132094649000000000000000000000000000000"
      ]
     },
     "execution_count": 91,
     "metadata": {},
     "output_type": "execute_result"
    }
   ],
   "source": [
    "power(30, 30)"
   ]
  },
  {
   "cell_type": "code",
   "execution_count": 92,
   "metadata": {},
   "outputs": [],
   "source": [
    "def powerCn(x, n):\n",
    "    if n == 0:\n",
    "        return 1\n",
    "    \n",
    "    elif n % 2 == 0:\n",
    "        small_power = power(x, n/2)\n",
    "        \n",
    "        #go half deep and result is twice that\n",
    "        return small_power * small_power\n",
    "    \n",
    "    else:\n",
    "        small_power = power(x, n//2)\n",
    "        \n",
    "        #go half deep and result is twice that and a x\n",
    "        return small_power * small_power * x"
   ]
  },
  {
   "cell_type": "code",
   "execution_count": 89,
   "metadata": {},
   "outputs": [
    {
     "data": {
      "text/plain": [
       "1000"
      ]
     },
     "execution_count": 89,
     "metadata": {},
     "output_type": "execute_result"
    }
   ],
   "source": [
    "powerCn(10, 3)"
   ]
  },
  {
   "cell_type": "code",
   "execution_count": null,
   "metadata": {},
   "outputs": [],
   "source": []
  }
 ],
 "metadata": {
  "kernelspec": {
   "display_name": "Python 3",
   "language": "python",
   "name": "python3"
  },
  "language_info": {
   "codemirror_mode": {
    "name": "ipython",
    "version": 3
   },
   "file_extension": ".py",
   "mimetype": "text/x-python",
   "name": "python",
   "nbconvert_exporter": "python",
   "pygments_lexer": "ipython3",
   "version": "3.7.4"
  }
 },
 "nbformat": 4,
 "nbformat_minor": 2
}
