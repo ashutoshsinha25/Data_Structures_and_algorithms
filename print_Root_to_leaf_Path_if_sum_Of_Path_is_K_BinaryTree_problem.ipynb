{
 "cells": [
  {
   "cell_type": "code",
   "execution_count": 9,
   "metadata": {},
   "outputs": [],
   "source": [
    "import queue\n",
    "class BinaryTreeNode:\n",
    "    def __init__(self, data):\n",
    "        self.data = data\n",
    "        self.left = None\n",
    "        self.right = None\n",
    "\n",
    "def buildLevelTree(levelorder):\n",
    "    index = 0\n",
    "    length = len(levelorder)\n",
    "    if length<=0 or levelorder[0]==-1:\n",
    "        return None\n",
    "    root = BinaryTreeNode(levelorder[index])\n",
    "    index += 1\n",
    "    q = queue.Queue()\n",
    "    q.put(root)\n",
    "    while not q.empty():\n",
    "        \n",
    "        \n",
    "        currentNode = q.get()\n",
    "        leftChild = levelorder[index]\n",
    "        index += 1\n",
    "        if leftChild != -1:\n",
    "            leftNode = BinaryTreeNode(leftChild)\n",
    "            currentNode.left =leftNode\n",
    "            q.put(leftNode)\n",
    "        rightChild = levelorder[index]\n",
    "        index += 1\n",
    "        if rightChild != -1:\n",
    "            rightNode = BinaryTreeNode(rightChild)\n",
    "            currentNode.right =rightNode\n",
    "            q.put(rightNode)\n",
    "    return root"
   ]
  },
  {
   "cell_type": "code",
   "execution_count": 34,
   "metadata": {},
   "outputs": [
    {
     "name": "stdout",
     "output_type": "stream",
     "text": [
      "5 6 10 2 3 -1 -1 -1 -1 -1 9 -1 -1\n",
      "2\n",
      "5\n"
     ]
    },
    {
     "data": {
      "text/plain": [
       "2"
      ]
     },
     "execution_count": 34,
     "metadata": {},
     "output_type": "execute_result"
    }
   ],
   "source": [
    "class Node: \n",
    "    # A constructor to create a new node \n",
    "    def __init__(self, data): \n",
    "        self.data = data \n",
    "        self.left = None\n",
    "        self.right = None\n",
    "      \n",
    "def printkDistanceNodeDown(root, k): \n",
    "\n",
    "    if root is None or k< 0 : \n",
    "        return \n",
    "      \n",
    "    if k == 0 : \n",
    "        print(root.data)  \n",
    "        return \n",
    "      \n",
    "    printkDistanceNodeDown(root.left, k-1) \n",
    "    printkDistanceNodeDown(root.right, k-1) \n",
    "  \n",
    "  \n",
    "def printkDistanceNode(root, target, k): \n",
    "      \n",
    "    # Base Case 1 : IF tree is empty return -1 \n",
    "    if root is None: \n",
    "        return -1\n",
    "    \n",
    "    if root.data == target: \n",
    "        printkDistanceNodeDown(root, k) \n",
    "        return 0 \n",
    "      \n",
    "    dl = printkDistanceNode(root.left, target, k) \n",
    "    \n",
    "    if dl != -1: \n",
    "          \n",
    "        if dl +1 == k : \n",
    "            print(root.data) \n",
    " \n",
    "        else: \n",
    "            printkDistanceNodeDown(root.right, k-dl-2) \n",
    "        return 1 + dl \n",
    "\n",
    "    dr = printkDistanceNode(root.right, target, k) \n",
    "    \n",
    "    if dr != -1: \n",
    "        if (dr+1 == k): \n",
    "            print(root.data) \n",
    "        else: \n",
    "            printkDistanceNodeDown(root.left, k-dr-2) \n",
    "        return 1 + dr \n",
    "  \n",
    "    return -1\n",
    "\n",
    "levelOrder = [int(i) for i in input().strip().split()]\n",
    "root = buildLevelTree(levelOrder)\n",
    "target = 3\n",
    "k = 1\n",
    "printkDistanceNode(root, target, 2)"
   ]
  },
  {
   "cell_type": "code",
   "execution_count": null,
   "metadata": {},
   "outputs": [],
   "source": []
  }
 ],
 "metadata": {
  "kernelspec": {
   "display_name": "Python 3",
   "language": "python",
   "name": "python3"
  },
  "language_info": {
   "codemirror_mode": {
    "name": "ipython",
    "version": 3
   },
   "file_extension": ".py",
   "mimetype": "text/x-python",
   "name": "python",
   "nbconvert_exporter": "python",
   "pygments_lexer": "ipython3",
   "version": "3.7.4"
  }
 },
 "nbformat": 4,
 "nbformat_minor": 2
}
