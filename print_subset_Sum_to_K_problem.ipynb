{
 "cells": [
  {
   "cell_type": "code",
   "execution_count": 118,
   "metadata": {},
   "outputs": [],
   "source": [
    "def func(arr, output, k):\n",
    "    \n",
    "    if len(arr) == 0:\n",
    "        if k == 0:\n",
    "            print(*output)\n",
    "            \n",
    "        return\n",
    "    \n",
    "    if arr[0] <= k:\n",
    "        func(arr[1:], output, k)\n",
    "        \n",
    "        k = k - arr[0]\n",
    "        func(arr[1:], output + [arr[0]], k)\n",
    "        \n",
    "    else:\n",
    "        func(arr[1:], output, k)"
   ]
  },
  {
   "cell_type": "code",
   "execution_count": 120,
   "metadata": {},
   "outputs": [
    {
     "name": "stdout",
     "output_type": "stream",
     "text": [
      "3 3\n",
      "5 1\n"
     ]
    }
   ],
   "source": [
    "arr = [5, 12, 3, 17, 1, 18, 15, 3, 17]\n",
    "k = 6\n",
    "output = []\n",
    "func(arr, output, k)"
   ]
  },
  {
   "cell_type": "code",
   "execution_count": null,
   "metadata": {},
   "outputs": [],
   "source": []
  }
 ],
 "metadata": {
  "kernelspec": {
   "display_name": "Python 3",
   "language": "python",
   "name": "python3"
  },
  "language_info": {
   "codemirror_mode": {
    "name": "ipython",
    "version": 3
   },
   "file_extension": ".py",
   "mimetype": "text/x-python",
   "name": "python",
   "nbconvert_exporter": "python",
   "pygments_lexer": "ipython3",
   "version": "3.7.4"
  }
 },
 "nbformat": 4,
 "nbformat_minor": 2
}
