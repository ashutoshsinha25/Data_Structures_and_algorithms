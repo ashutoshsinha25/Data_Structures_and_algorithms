{
 "cells": [
  {
   "cell_type": "code",
   "execution_count": 1,
   "metadata": {},
   "outputs": [
    {
     "name": "stdout",
     "output_type": "stream",
     "text": [
      "5\n",
      "2 3 2 2 4\n",
      "3\n",
      "4\n"
     ]
    }
   ],
   "source": [
    "import heapq\n",
    "import queue\n",
    "def buyTicket(arr,k):\n",
    "    ele=arr[k]\n",
    "    count1=0\n",
    "    for i in range(k-1):\n",
    "        if arr[i] == ele:\n",
    "            count1+=1\n",
    "    arr.sort()\n",
    "    count=0\n",
    "    arr=list(reversed(arr))\n",
    "    for i in range(len(arr)):\n",
    "        if arr[i]==ele:\n",
    "            return count1+count+1\n",
    "        count+=1\n",
    "\n",
    "N = int(input())\n",
    "arr = [int(i) for i in input().strip().split(\" \")]\n",
    "k = int(input())\n",
    "print(buyTicket(arr,k))"
   ]
  },
  {
   "cell_type": "code",
   "execution_count": null,
   "metadata": {},
   "outputs": [],
   "source": []
  }
 ],
 "metadata": {
  "kernelspec": {
   "display_name": "Python 3",
   "language": "python",
   "name": "python3"
  },
  "language_info": {
   "codemirror_mode": {
    "name": "ipython",
    "version": 3
   },
   "file_extension": ".py",
   "mimetype": "text/x-python",
   "name": "python",
   "nbconvert_exporter": "python",
   "pygments_lexer": "ipython3",
   "version": "3.7.4"
  }
 },
 "nbformat": 4,
 "nbformat_minor": 2
}
