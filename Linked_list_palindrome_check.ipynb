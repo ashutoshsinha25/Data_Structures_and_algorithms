{
 "cells": [
  {
   "cell_type": "code",
   "execution_count": 107,
   "metadata": {},
   "outputs": [
    {
     "name": "stdout",
     "output_type": "stream",
     "text": [
      "0 2 3 2 5 -1\n",
      "false\n"
     ]
    }
   ],
   "source": [
    "class Node:\n",
    "    def __init__(self, data):\n",
    "        self.data = data\n",
    "        self.next = None\n",
    "        \n",
    "        \n",
    "def ll(arr):\n",
    "    if len(arr)==0:\n",
    "        return None\n",
    "    head = Node(arr[0])\n",
    "    last = head\n",
    "    for data in arr[1:]:\n",
    "        last.next = Node(data)\n",
    "        last = last.next\n",
    "    return head\n",
    "\n",
    "def func(head):\n",
    "    count = 1\n",
    "    curr = head\n",
    "    \n",
    "    while curr is not None:\n",
    "        curr = curr.next\n",
    "        count += 1\n",
    "        \n",
    "    mid = count // 2\n",
    "    \n",
    "    curr = head\n",
    "    \n",
    "    while mid >= 0:\n",
    "        mid -=1\n",
    "        if mid == 0:\n",
    "            t2 = curr.next\n",
    "            curr.next = None\n",
    "            break\n",
    "            \n",
    "        curr = curr.next\n",
    "        \n",
    "    prev = None\n",
    "    curr = t2\n",
    "\n",
    "    while curr is not None:\n",
    "        sNext = curr.next\n",
    "        curr.next = prev\n",
    "        prev = curr\n",
    "        curr = sNext\n",
    "    \n",
    "    curr = head\n",
    "    stop = False\n",
    "    while prev is not None and not stop:\n",
    "        if prev.data != curr.data:\n",
    "            stop = True\n",
    "            \n",
    "        prev = prev.next\n",
    "        curr = curr.next\n",
    "        \n",
    "    if stop:\n",
    "        return False\n",
    "    else:\n",
    "        return True\n",
    "        \n",
    "        \n",
    "def printll(head):\n",
    "    while head:\n",
    "        print(head.data, end=' ')\n",
    "        head = head.next\n",
    "    print()\n",
    "\n",
    "arr=list(int(i) for i in input().strip().split(' '))\n",
    "head = ll(arr[:-1])\n",
    "ans = func(head)\n",
    "if ans:\n",
    "    print(\"true\")\n",
    "else:\n",
    "    print(\"false\")"
   ]
  },
  {
   "cell_type": "code",
   "execution_count": null,
   "metadata": {},
   "outputs": [],
   "source": []
  }
 ],
 "metadata": {
  "kernelspec": {
   "display_name": "Python 3",
   "language": "python",
   "name": "python3"
  },
  "language_info": {
   "codemirror_mode": {
    "name": "ipython",
    "version": 3
   },
   "file_extension": ".py",
   "mimetype": "text/x-python",
   "name": "python",
   "nbconvert_exporter": "python",
   "pygments_lexer": "ipython3",
   "version": "3.7.4"
  }
 },
 "nbformat": 4,
 "nbformat_minor": 2
}
