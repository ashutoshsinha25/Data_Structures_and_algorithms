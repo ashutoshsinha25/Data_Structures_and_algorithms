{
 "cells": [
  {
   "cell_type": "code",
   "execution_count": 2,
   "metadata": {},
   "outputs": [],
   "source": [
    "class treeNode:\n",
    "    def __init__(self, data):\n",
    "        self.data = data\n",
    "        self.children = []\n",
    "\n",
    "def createLevelWiseTree(arr):\n",
    "    root = treeNode(int(arr[0]))\n",
    "    q = [root]\n",
    "    size = len(arr)\n",
    "    i = 1\n",
    "    while i<size:\n",
    "        parent = q.pop(0)\n",
    "        childCount = int(arr[i])\n",
    "        i += 1\n",
    "        for j in range(0,childCount):\n",
    "            temp = treeNode(int(arr[i+j]))\n",
    "            parent.children.append(temp)\n",
    "            q.append(temp)\n",
    "        i += childCount\n",
    "    return root"
   ]
  },
  {
   "cell_type": "code",
   "execution_count": 34,
   "metadata": {},
   "outputs": [],
   "source": [
    "def nextLargest(tree, n):\n",
    "    \n",
    "    minTree = None\n",
    "    minTreeData = None\n",
    "    \n",
    "    if len(tree.children) == 0:\n",
    "        if tree.data > n:\n",
    "            return tree, tree.data\n",
    "        return None, None\n",
    "    \n",
    "    elif tree.data > n:\n",
    "        minTree, minTreeData = tree, tree.data        \n",
    "        \n",
    "    for child in tree.children:\n",
    "        if child.data > n:\n",
    "            \n",
    "            if minTree == None:\n",
    "                minTree, minTreeData = child, child.data\n",
    "                \n",
    "            else:\n",
    "                if child.data < minTreeData:\n",
    "                    minTree, minTreeData = child, child.data\n",
    "                    \n",
    "                    \n",
    "    for child in tree.children:\n",
    "        subTree, subTreeData = nextLargest(child, n)\n",
    "        \n",
    "        if subTree != None:\n",
    "            if minTree != None:\n",
    "                if subTreeData < minTreeData:\n",
    "                    minTree, minTreeData = subTree, subTreeData\n",
    "            else:\n",
    "                minTree, minTreeData = subTree, subTreeData\n",
    "    \n",
    "    return minTree, minTreeData"
   ]
  },
  {
   "cell_type": "code",
   "execution_count": 35,
   "metadata": {},
   "outputs": [
    {
     "name": "stdout",
     "output_type": "stream",
     "text": [
      "21\n",
      "10 3 20 30 40 2 40 50 0 0 0 0\n",
      "30\n"
     ]
    }
   ],
   "source": [
    "n =int(input())\n",
    "arr = list(int(x) for x in input().strip().split(' '))\n",
    "tree = createLevelWiseTree(arr)\n",
    "tree, treeData = nextLargest(tree, n)\n",
    "print(treeData)"
   ]
  },
  {
   "cell_type": "code",
   "execution_count": null,
   "metadata": {},
   "outputs": [],
   "source": []
  }
 ],
 "metadata": {
  "kernelspec": {
   "display_name": "Python 3",
   "language": "python",
   "name": "python3"
  },
  "language_info": {
   "codemirror_mode": {
    "name": "ipython",
    "version": 3
   },
   "file_extension": ".py",
   "mimetype": "text/x-python",
   "name": "python",
   "nbconvert_exporter": "python",
   "pygments_lexer": "ipython3",
   "version": "3.7.4"
  }
 },
 "nbformat": 4,
 "nbformat_minor": 2
}
