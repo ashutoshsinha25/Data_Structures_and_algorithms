{
 "cells": [
  {
   "cell_type": "code",
   "execution_count": 5,
   "metadata": {},
   "outputs": [],
   "source": [
    "class Graph:\n",
    "    def __init__(self, nVerticies):\n",
    "        self.nVerticies = nVerticies\n",
    "        self.adjMatrix = [ [0 for i in range(nVerticies)] for j in range(nVerticies)]\n",
    "        \n",
    "        \n",
    "    def addEdge(self, v1, v2):\n",
    "        self.adjMatrix[v1][v2] = 1\n",
    "        self.adjMatrix[v2][v1] = 1\n",
    "        \n",
    "    def removeEdge(self, v1, v2):\n",
    "        if self.containsEdge(v1, v2) is False:\n",
    "            return\n",
    "        self.adjMatrix[v1][v2] = 0\n",
    "        self.adjMatrix[v2][v1] = 0\n",
    "        \n",
    "    \n",
    "    def containsEdge(self, v1, v2):\n",
    "        return True if self.adjMatrix[v1][v2] > 0 else False\n",
    "    \n",
    "    \n",
    "    def __str__(self):\n",
    "        return str(self.adjMatrix)\n",
    "    \n",
    "    \n",
    "    def __dfsHelper(self, sv, visited):\n",
    "        \n",
    "        print(sv)\n",
    "        visited[sv] = True\n",
    "        for i in range(self.nVerticies):\n",
    "            if self.adjMatrix[sv][i] > 0 and visited[i] is False:\n",
    "                self.__dfsHelper(i, visited)\n",
    "    \n",
    "    def dfs(self):\n",
    "        visited = [False for i in range(self.nVerticies)]\n",
    "        for i in range(self.nVerticies):\n",
    "            if visited[i] is False:\n",
    "                self.__dfsHelper(i, visited)"
   ]
  },
  {
   "cell_type": "code",
   "execution_count": 6,
   "metadata": {},
   "outputs": [
    {
     "name": "stdout",
     "output_type": "stream",
     "text": [
      "0\n",
      "1\n",
      "3\n",
      "2\n",
      "4\n"
     ]
    }
   ],
   "source": [
    "g = Graph(5)\n",
    "g.addEdge(0, 1)\n",
    "g.addEdge(1, 3)\n",
    "g.addEdge(3, 2)\n",
    "g.addEdge(2, 4)\n",
    "g.addEdge(0, 2)\n",
    "g.dfs()"
   ]
  },
  {
   "cell_type": "code",
   "execution_count": null,
   "metadata": {},
   "outputs": [],
   "source": []
  }
 ],
 "metadata": {
  "kernelspec": {
   "display_name": "Python 3",
   "language": "python",
   "name": "python3"
  },
  "language_info": {
   "codemirror_mode": {
    "name": "ipython",
    "version": 3
   },
   "file_extension": ".py",
   "mimetype": "text/x-python",
   "name": "python",
   "nbconvert_exporter": "python",
   "pygments_lexer": "ipython3",
   "version": "3.7.4"
  }
 },
 "nbformat": 4,
 "nbformat_minor": 2
}
