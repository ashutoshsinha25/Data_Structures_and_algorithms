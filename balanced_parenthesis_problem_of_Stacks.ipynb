{
 "cells": [
  {
   "cell_type": "code",
   "execution_count": 2,
   "metadata": {},
   "outputs": [],
   "source": [
    "class Stack:\n",
    "    \n",
    "    def __init__(self):\n",
    "        self.__data = []\n",
    "        \n",
    "        \n",
    "    def push(self, item):        \n",
    "        self.__data.append(item)\n",
    "        \n",
    "        \n",
    "        \n",
    "    def pop(self):\n",
    "        if self.isEmpty():\n",
    "            return\n",
    "        return self.__data.pop()\n",
    "        \n",
    "        \n",
    "    def top(self):\n",
    "        if self.isEmpty():\n",
    "            return\n",
    "        \n",
    "        return self.__data[len(self.__data)-1]\n",
    "    \n",
    "        \n",
    "    def size(self):\n",
    "        return len(self.__data)\n",
    "        \n",
    "        \n",
    "    def isEmpty(self):\n",
    "        return self.size() == 0"
   ]
  },
  {
   "cell_type": "code",
   "execution_count": 29,
   "metadata": {},
   "outputs": [],
   "source": [
    "def checkBalanced(expr):\n",
    "    s = Stack()\n",
    "    stop = False\n",
    "    opens = \"{([\"\n",
    "    closes = \"})]\"\n",
    "    \n",
    "    for i in expr:\n",
    "        if i in opens:\n",
    "            s.push(i)\n",
    "            \n",
    "        elif i in closes:\n",
    "            if not s.isEmpty():\n",
    "                k = s.pop()\n",
    "                \n",
    "                if i == \"}\" and k != \"{\":\n",
    "                    stop = True\n",
    "                    break\n",
    "                    \n",
    "                elif i == \")\" and k != \"(\":\n",
    "                    stop = True\n",
    "                    break\n",
    "                    \n",
    "                elif i == \"]\" and k != \"[\":\n",
    "                    stop = True\n",
    "                    break\n",
    "                    \n",
    "            else:\n",
    "                stop = True\n",
    "                break\n",
    "    if not stop and s.isEmpty():\n",
    "        return \"true\"\n",
    "    else:\n",
    "        return \"false\""
   ]
  },
  {
   "cell_type": "code",
   "execution_count": 36,
   "metadata": {},
   "outputs": [
    {
     "name": "stdout",
     "output_type": "stream",
     "text": [
      "{ a + [ b - c } ]\n",
      "false\n"
     ]
    }
   ],
   "source": [
    "expr = input()\n",
    "print(checkBalanced(expr))"
   ]
  },
  {
   "cell_type": "code",
   "execution_count": 39,
   "metadata": {},
   "outputs": [],
   "source": [
    "def isBalanced(expr):\n",
    "    s = []\n",
    "    \n",
    "    for char in expr:\n",
    "        \n",
    "        if char in '({[':\n",
    "            s.append(char)\n",
    "            \n",
    "        elif char is \")\":\n",
    "            if not s or s[-1] != \"(\":\n",
    "                return False\n",
    "            s.pop()\n",
    "            \n",
    "        elif char is \"}\":\n",
    "            if not s or s[-1] != \"}\":\n",
    "                return False\n",
    "            s.pop()\n",
    "            \n",
    "        elif char is \"]\":\n",
    "            \n",
    "            if not s or s[-1] != \"]\":\n",
    "                return False\n",
    "            s.pop()\n",
    "            \n",
    "    if not s:\n",
    "        return True\n",
    "    return False"
   ]
  },
  {
   "cell_type": "code",
   "execution_count": 44,
   "metadata": {},
   "outputs": [
    {
     "name": "stdout",
     "output_type": "stream",
     "text": [
      "(()()())\n",
      "True\n"
     ]
    }
   ],
   "source": [
    "expr = input()\n",
    "ans = isBalanced(expr)\n",
    "print(ans)"
   ]
  },
  {
   "cell_type": "code",
   "execution_count": null,
   "metadata": {},
   "outputs": [],
   "source": []
  }
 ],
 "metadata": {
  "kernelspec": {
   "display_name": "Python 3",
   "language": "python",
   "name": "python3"
  },
  "language_info": {
   "codemirror_mode": {
    "name": "ipython",
    "version": 3
   },
   "file_extension": ".py",
   "mimetype": "text/x-python",
   "name": "python",
   "nbconvert_exporter": "python",
   "pygments_lexer": "ipython3",
   "version": "3.7.4"
  }
 },
 "nbformat": 4,
 "nbformat_minor": 2
}
