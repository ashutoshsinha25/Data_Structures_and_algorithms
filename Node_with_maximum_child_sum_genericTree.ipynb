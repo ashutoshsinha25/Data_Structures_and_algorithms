{
 "cells": [
  {
   "cell_type": "code",
   "execution_count": 3,
   "metadata": {},
   "outputs": [],
   "source": [
    "class treeNode:\n",
    "    def __init__(self, data):\n",
    "        self.data = data\n",
    "        self.children = []\n",
    "\n",
    "def createLevelWiseTree(arr):\n",
    "    root = treeNode(int(arr[0]))\n",
    "    q = [root]\n",
    "    size = len(arr)\n",
    "    i = 1\n",
    "    while i<size:\n",
    "        parent = q.pop(0)\n",
    "        childCount = int(arr[i])\n",
    "        i += 1\n",
    "        for j in range(0,childCount):\n",
    "            temp = treeNode(int(arr[i+j]))\n",
    "            parent.children.append(temp)\n",
    "            q.append(temp)\n",
    "        i += childCount\n",
    "    return root"
   ]
  },
  {
   "cell_type": "code",
   "execution_count": 17,
   "metadata": {},
   "outputs": [],
   "source": [
    "def maxSumNode(tree):\n",
    "    if tree == None:\n",
    "        return \n",
    "        \n",
    "        \n",
    "    if len(tree.children) == 0:\n",
    "        return tree, tree.data\n",
    "    \n",
    "    else:\n",
    "        ans = tree\n",
    "        sumRoot = tree.data\n",
    "        \n",
    "        for child in tree.children:\n",
    "            sumRoot += child.data\n",
    "            \n",
    "        for child in tree.children:\n",
    "            childRoot, childSum = maxSumNode(child)\n",
    "            \n",
    "            if childSum >sumRoot:\n",
    "                ans, sumRoot = childRoot, childSum\n",
    "            \n",
    "        return ans, sumRoot"
   ]
  },
  {
   "cell_type": "code",
   "execution_count": 18,
   "metadata": {},
   "outputs": [
    {
     "name": "stdout",
     "output_type": "stream",
     "text": [
      "5 3 1 2 3 1 15 2 4 5 1 6 0 0 0 0\n",
      "1\n"
     ]
    }
   ],
   "source": [
    "# Main\n",
    "arr = list(int(x) for x in input().strip().split(' '))\n",
    "tree = createLevelWiseTree(arr)\n",
    "temp, tempSum = maxSumNode(tree)\n",
    "print(temp.data)"
   ]
  },
  {
   "cell_type": "code",
   "execution_count": null,
   "metadata": {},
   "outputs": [],
   "source": []
  }
 ],
 "metadata": {
  "kernelspec": {
   "display_name": "Python 3",
   "language": "python",
   "name": "python3"
  },
  "language_info": {
   "codemirror_mode": {
    "name": "ipython",
    "version": 3
   },
   "file_extension": ".py",
   "mimetype": "text/x-python",
   "name": "python",
   "nbconvert_exporter": "python",
   "pygments_lexer": "ipython3",
   "version": "3.7.4"
  }
 },
 "nbformat": 4,
 "nbformat_minor": 2
}
