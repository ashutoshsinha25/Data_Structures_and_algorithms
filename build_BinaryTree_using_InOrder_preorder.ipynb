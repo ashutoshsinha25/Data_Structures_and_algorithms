{
 "cells": [
  {
   "cell_type": "code",
   "execution_count": 44,
   "metadata": {},
   "outputs": [],
   "source": [
    "import queue\n",
    "class BinaryTreeNode:\n",
    "    def __init__(self, data):\n",
    "        self.data = data\n",
    "        self.left = None\n",
    "        self.right = None\n",
    "        \n",
    "def buildTreePreOrder(preorder, inorder):\n",
    "    if len(preorder) == 0:\n",
    "        return \n",
    "    \n",
    "    #base case\n",
    "    if len(preorder) == 1:\n",
    "        newNode = BinaryTreeNode(preorder[0])\n",
    "        return newNode\n",
    "    \n",
    "    #find the root\n",
    "    first_ele = preorder[0]\n",
    "    root = BinaryTreeNode(preorder[0])\n",
    "    \n",
    "    \n",
    "    #find inorder of left and right subTree\n",
    "    for i in range(len(inorder)):\n",
    "        if inorder[i] == first_ele:\n",
    "            break       \n",
    "    leftInorder = inorder[: i]\n",
    "    rightInorder = inorder[i+1 : ]\n",
    "    \n",
    "    x = len(leftInorder)\n",
    "    \n",
    "    #find preorder of left and right subTree\n",
    "    leftPreorder = preorder[1 : x+1]\n",
    "    rightPreorder = preorder[x+1: ]\n",
    "    \n",
    "    #calling recursion on left and right\n",
    "    leftSubTree= buildTreePreOrder(leftPreorder, leftInorder)\n",
    "    rightSubTree= buildTreePreOrder(rightPreorder, rightInorder)\n",
    "    \n",
    "    #joining the left and right subTree to the root \n",
    "    root.left = leftSubTree\n",
    "    root.right = rightSubTree\n",
    "    return root"
   ]
  },
  {
   "cell_type": "code",
   "execution_count": 62,
   "metadata": {},
   "outputs": [],
   "source": [
    "def printLevelATNewLine(root):\n",
    "    # Given a binary tree, print the level order traversal. Make sure each level\n",
    "    # start in new line.\n",
    "    if root==None:\n",
    "        return\n",
    "    inputQ = queue.Queue()\n",
    "    outputQ = queue.Queue()\n",
    "    inputQ.put(root)\n",
    "    while not inputQ.empty():\n",
    "        while not inputQ.empty():\n",
    "            curr = inputQ.get()\n",
    "            print(curr.data, end=' ')\n",
    "            if curr.left!=None:\n",
    "                outputQ.put(curr.left)\n",
    "            if curr.right!=None:\n",
    "                outputQ.put(curr.right)\n",
    "        print()\n",
    "        inputQ, outputQ = outputQ, inputQ\n"
   ]
  },
  {
   "cell_type": "code",
   "execution_count": 63,
   "metadata": {},
   "outputs": [
    {
     "name": "stdout",
     "output_type": "stream",
     "text": [
      "1 2 3 4 15 5 6 7 8 10 9 12\n",
      "4 15 3 2 5 1 6 10 8 7 9 12\n",
      "1 \n",
      "2 6 \n",
      "3 5 7 \n",
      "4 8 9 \n",
      "15 10 12 \n"
     ]
    }
   ],
   "source": [
    "preorder = [int(i) for i in input().strip().split()]\n",
    "inorder = [int(i) for i in input().strip().split()]\n",
    "root = buildTreePreOrder(preorder, inorder)\n",
    "printLevelATNewLine(root)"
   ]
  },
  {
   "cell_type": "code",
   "execution_count": null,
   "metadata": {},
   "outputs": [],
   "source": []
  }
 ],
 "metadata": {
  "kernelspec": {
   "display_name": "Python 3",
   "language": "python",
   "name": "python3"
  },
  "language_info": {
   "codemirror_mode": {
    "name": "ipython",
    "version": 3
   },
   "file_extension": ".py",
   "mimetype": "text/x-python",
   "name": "python",
   "nbconvert_exporter": "python",
   "pygments_lexer": "ipython3",
   "version": "3.7.4"
  }
 },
 "nbformat": 4,
 "nbformat_minor": 2
}
