{
 "cells": [
  {
   "cell_type": "code",
   "execution_count": 2,
   "metadata": {},
   "outputs": [],
   "source": [
    "def func(arr, output):\n",
    "    \n",
    "    if len(arr) == 0:\n",
    "        print(*output)\n",
    "        return\n",
    "    \n",
    "    func(arr[1:], output)    \n",
    "    func(arr[1:], output + [arr[0]])"
   ]
  },
  {
   "cell_type": "code",
   "execution_count": 3,
   "metadata": {},
   "outputs": [
    {
     "name": "stdout",
     "output_type": "stream",
     "text": [
      "\n",
      "12\n",
      "20\n",
      "20 12\n",
      "15\n",
      "15 12\n",
      "15 20\n",
      "15 20 12\n"
     ]
    }
   ],
   "source": [
    "arr = [15, 20, 12]\n",
    "output = []\n",
    "func(arr, output)"
   ]
  },
  {
   "cell_type": "code",
   "execution_count": null,
   "metadata": {},
   "outputs": [],
   "source": []
  }
 ],
 "metadata": {
  "kernelspec": {
   "display_name": "Python 3",
   "language": "python",
   "name": "python3"
  },
  "language_info": {
   "codemirror_mode": {
    "name": "ipython",
    "version": 3
   },
   "file_extension": ".py",
   "mimetype": "text/x-python",
   "name": "python",
   "nbconvert_exporter": "python",
   "pygments_lexer": "ipython3",
   "version": "3.7.4"
  }
 },
 "nbformat": 4,
 "nbformat_minor": 2
}
