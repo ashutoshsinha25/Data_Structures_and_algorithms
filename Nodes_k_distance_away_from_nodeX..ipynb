{
 "cells": [
  {
   "cell_type": "code",
   "execution_count": 43,
   "metadata": {},
   "outputs": [],
   "source": [
    "import queue\n",
    "class BinaryTreeNode:\n",
    "    def __init__(self, data):\n",
    "        self.data = data\n",
    "        self.left = None\n",
    "        self.right = None\n",
    "        \n",
    "        \n",
    "def buildLevelTree(levelorder):\n",
    "    index = 0\n",
    "    length = len(levelorder)\n",
    "    if length<=0 or levelorder[0]==-1:\n",
    "        return None\n",
    "    root = BinaryTreeNode(levelorder[index])\n",
    "    index += 1\n",
    "    q = queue.Queue()\n",
    "    q.put(root)\n",
    "    while not q.empty():\n",
    "        \n",
    "        \n",
    "        currentNode = q.get()\n",
    "        leftChild = levelorder[index]\n",
    "        index += 1\n",
    "        if leftChild != -1:\n",
    "            leftNode = BinaryTreeNode(leftChild)\n",
    "            currentNode.left =leftNode\n",
    "            q.put(leftNode)\n",
    "        rightChild = levelorder[index]\n",
    "        index += 1\n",
    "        if rightChild != -1:\n",
    "            rightNode = BinaryTreeNode(rightChild)\n",
    "            currentNode.right =rightNode\n",
    "            q.put(rightNode)\n",
    "    return root"
   ]
  },
  {
   "cell_type": "code",
   "execution_count": 66,
   "metadata": {},
   "outputs": [],
   "source": [
    "def printDownwards(root, k):\n",
    "    \n",
    "    if root == None or k < 0:\n",
    "        return\n",
    "    \n",
    "    \n",
    "    if k == 0:\n",
    "        print(root.data)\n",
    "        return\n",
    "    \n",
    "    printDownwards(root.left, k-1)\n",
    "    printDownwards(root.right, k-1)\n",
    "    \n",
    "    \n",
    "def printNodesAtKdistance(root, k, ele):\n",
    "    \n",
    "    if root is None:\n",
    "        return -1\n",
    "    \n",
    "    if root.data == ele:\n",
    "        printDownwards(root, k)\n",
    "        return 0\n",
    "    \n",
    "    #---------------------------------------------------\n",
    "    distanceLeft = printNodesAtKdistance(root.left, k, ele)\n",
    "    if distanceLeft != -1:\n",
    "        if distanceLeft + 1 == k:\n",
    "            print(root.data)\n",
    "        \n",
    "        else:\n",
    "            printDownwards(root.right, k - distanceLeft - 2)\n",
    "        return 1 + distanceLeft\n",
    "    \n",
    "    #--------------------------------------------\n",
    "\n",
    "    \n",
    "    distanceRight = printNodesAtKdistance(root.right, k, ele)\n",
    "    if distanceRight != -1:\n",
    "        if distanceRight + 1 == k:\n",
    "            print(root.data)\n",
    "        else:\n",
    "            printDownwards(root.left, k - distanceRight - 2)\n",
    "            \n",
    "        return 1 + distanceRight\n",
    "    \n",
    "    return -1"
   ]
  },
  {
   "cell_type": "code",
   "execution_count": 67,
   "metadata": {},
   "outputs": [
    {
     "name": "stdout",
     "output_type": "stream",
     "text": [
      "5 6 10 2 3 -1 -1 -1 -1 -1 9 -1 -1\n",
      "9\n",
      "6\n"
     ]
    },
    {
     "data": {
      "text/plain": [
       "2"
      ]
     },
     "execution_count": 67,
     "metadata": {},
     "output_type": "execute_result"
    }
   ],
   "source": [
    "levelOrder = [int(i) for i in input().strip().split()]\n",
    "root = buildLevelTree(levelOrder)\n",
    "k = 1\n",
    "\n",
    "ele = 3\n",
    "printNodesAtKdistance(root, k, ele)"
   ]
  },
  {
   "cell_type": "code",
   "execution_count": null,
   "metadata": {},
   "outputs": [],
   "source": []
  }
 ],
 "metadata": {
  "kernelspec": {
   "display_name": "Python 3",
   "language": "python",
   "name": "python3"
  },
  "language_info": {
   "codemirror_mode": {
    "name": "ipython",
    "version": 3
   },
   "file_extension": ".py",
   "mimetype": "text/x-python",
   "name": "python",
   "nbconvert_exporter": "python",
   "pygments_lexer": "ipython3",
   "version": "3.7.4"
  }
 },
 "nbformat": 4,
 "nbformat_minor": 2
}
