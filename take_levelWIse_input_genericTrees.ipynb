{
 "cells": [
  {
   "cell_type": "code",
   "execution_count": 3,
   "metadata": {},
   "outputs": [],
   "source": [
    "class TreeNode:\n",
    "    def __init__(self, data):\n",
    "        self.data = data\n",
    "        self.children = []\n",
    "    def __str__(self):\n",
    "        return str(self.data)\n",
    "\n",
    "def printTreeDetailed(root):\n",
    "    \n",
    "    if root != None:\n",
    "        print(root.data, ':', end = \"\")\n",
    "        for child in root.children:\n",
    "            print(child.data, ',', end = \"\")\n",
    "        print()\n",
    "            \n",
    "        for child in root.children:\n",
    "            printTreeDetailed(child)"
   ]
  },
  {
   "cell_type": "code",
   "execution_count": 23,
   "metadata": {},
   "outputs": [],
   "source": [
    "import queue\n",
    "\n",
    "def takeLevelWiseInput():\n",
    "    \n",
    "    rootData = int(input(\"Enter root: \"))\n",
    "    if rootData == -1:\n",
    "        return \n",
    "    \n",
    "    \n",
    "    s = queue.Queue()\n",
    "    root = TreeNode(rootData)\n",
    "    s.put(root)\n",
    "\n",
    "    while not(s.empty()):\n",
    "        curr = s.get()\n",
    "\n",
    "        print(\"Enter number of Children of: \", curr.data)\n",
    "        numChildren = int(input())\n",
    "\n",
    "        for _ in range(numChildren):\n",
    "\n",
    "            print(\"Enter next child of \", curr.data)\n",
    "            childData = int(input())\n",
    "            childNode = TreeNode(childData)\n",
    "\n",
    "            curr.children.append(childNode)\n",
    "            s.put(childNode)\n",
    "        \n",
    "    return root"
   ]
  },
  {
   "cell_type": "code",
   "execution_count": 24,
   "metadata": {},
   "outputs": [
    {
     "name": "stdout",
     "output_type": "stream",
     "text": [
      "Enter root: 1\n",
      "Enter number of Children of:  1\n",
      "3\n",
      "Enter next child of  1\n",
      "2\n",
      "Enter next child of  1\n",
      "3\n",
      "Enter next child of  1\n",
      "4\n",
      "Enter number of Children of:  2\n",
      "0\n",
      "Enter number of Children of:  3\n",
      "2\n",
      "Enter next child of  3\n",
      "5\n",
      "Enter next child of  3\n",
      "6\n",
      "Enter number of Children of:  4\n",
      "0\n",
      "Enter number of Children of:  5\n",
      "0\n",
      "Enter number of Children of:  6\n",
      "3\n",
      "Enter next child of  6\n",
      "7\n",
      "Enter next child of  6\n",
      "8\n",
      "Enter next child of  6\n",
      "9\n",
      "Enter number of Children of:  7\n",
      "0\n",
      "Enter number of Children of:  8\n",
      "0\n",
      "Enter number of Children of:  9\n",
      "0\n",
      "1 :2 ,3 ,4 ,\n",
      "2 :\n",
      "3 :5 ,6 ,\n",
      "5 :\n",
      "6 :7 ,8 ,9 ,\n",
      "7 :\n",
      "8 :\n",
      "9 :\n",
      "4 :\n"
     ]
    }
   ],
   "source": [
    "root = takeLevelWiseInput()\n",
    "printTreeDetailed(root)"
   ]
  },
  {
   "cell_type": "code",
   "execution_count": null,
   "metadata": {},
   "outputs": [],
   "source": []
  }
 ],
 "metadata": {
  "kernelspec": {
   "display_name": "Python 3",
   "language": "python",
   "name": "python3"
  },
  "language_info": {
   "codemirror_mode": {
    "name": "ipython",
    "version": 3
   },
   "file_extension": ".py",
   "mimetype": "text/x-python",
   "name": "python",
   "nbconvert_exporter": "python",
   "pygments_lexer": "ipython3",
   "version": "3.7.4"
  }
 },
 "nbformat": 4,
 "nbformat_minor": 2
}
