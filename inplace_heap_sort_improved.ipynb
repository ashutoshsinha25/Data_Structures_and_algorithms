{
 "cells": [
  {
   "cell_type": "code",
   "execution_count": 10,
   "metadata": {},
   "outputs": [
    {
     "name": "stdout",
     "output_type": "stream",
     "text": [
      "1 4 0 -1 2\n",
      "4 2 1 0 -1 "
     ]
    }
   ],
   "source": [
    "def down_heapify(arr, i, n):\n",
    "    \n",
    "    parentIndex = i\n",
    "    leftChildIndex = (2 * parentIndex) + 1\n",
    "    rightChildIndex = (2 * parentIndex) + 2\n",
    "    \n",
    "    while leftChildIndex < n:\n",
    "        minIndex = parentIndex\n",
    "        if arr[minIndex] > arr[leftChildIndex]:\n",
    "            minIndex = leftChildIndex\n",
    "            \n",
    "            \n",
    "        if rightChildIndex < n and arr[minIndex] > arr[rightChildIndex]:\n",
    "            minIndex = rightChildIndex\n",
    "            \n",
    "        \n",
    "        if minIndex == parentIndex:\n",
    "            return\n",
    "        \n",
    "        arr[minIndex], arr[parentIndex] = arr[parentIndex], arr[minIndex]\n",
    "        parentIndex = minIndex\n",
    "        leftChildIndex = (2 * parentIndex) + 1\n",
    "        rightChildIndex = (2 * parentIndex) + 2\n",
    "        \n",
    "    return\n",
    "\n",
    "\n",
    "def heapSort(arr):\n",
    "    #build the heap\n",
    "    n = len(arr)\n",
    "    for i in range(n//2-1, -1, -1):\n",
    "        down_heapify(arr, i, n)\n",
    "    \n",
    "    #removing elements from heap and put them at correct positions\n",
    "    \n",
    "    for i in range(n-1, 0, -1):\n",
    "        arr[0], arr[i] = arr[i], arr[0]\n",
    "        down_heapify(arr, 0, i)\n",
    "        \n",
    "    return\n",
    "\n",
    "\n",
    "arr = [int(ele) for ele in input().split() ]\n",
    "heapSort(arr)\n",
    "for ele in arr:\n",
    "    print(ele, end = \" \")"
   ]
  },
  {
   "cell_type": "code",
   "execution_count": null,
   "metadata": {},
   "outputs": [],
   "source": []
  }
 ],
 "metadata": {
  "kernelspec": {
   "display_name": "Python 3",
   "language": "python",
   "name": "python3"
  },
  "language_info": {
   "codemirror_mode": {
    "name": "ipython",
    "version": 3
   },
   "file_extension": ".py",
   "mimetype": "text/x-python",
   "name": "python",
   "nbconvert_exporter": "python",
   "pygments_lexer": "ipython3",
   "version": "3.7.4"
  }
 },
 "nbformat": 4,
 "nbformat_minor": 2
}
