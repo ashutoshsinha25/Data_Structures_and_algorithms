{
 "cells": [
  {
   "cell_type": "code",
   "execution_count": 228,
   "metadata": {},
   "outputs": [
    {
     "name": "stdout",
     "output_type": "stream",
     "text": [
      "1 2 3 4 5 -1\n",
      "3\n",
      "3 4 5 1 2 \n"
     ]
    }
   ],
   "source": [
    "class Node:\n",
    "    def __init__(self, data):\n",
    "        self.data = data\n",
    "        self.next = None\n",
    "    \n",
    "\n",
    "def ll(arr):\n",
    "    if len(arr)==0:\n",
    "        return None\n",
    "    head = Node(arr[0])\n",
    "    last = head\n",
    "    for data in arr[1:]:\n",
    "        last.next = Node(data)\n",
    "        last = last.next\n",
    "    return head\n",
    "\n",
    "def printll(head):\n",
    "    while head:\n",
    "        print(head.data, end=' ')\n",
    "        head = head.next\n",
    "    print()\n",
    "\n",
    "def append_linkedList(head, n):\n",
    "    \n",
    "    curr = head\n",
    "    start= head\n",
    "    \n",
    "    length = 1\n",
    "    while curr is not None:\n",
    "        curr = curr.next\n",
    "        length += 1\n",
    "    \n",
    "    \n",
    "    stop = length - n\n",
    "    curr = head\n",
    "    k = 1\n",
    "    \n",
    "    while k < stop:\n",
    "        \n",
    "        if k == stop-1:\n",
    "            \n",
    "            last_ele = curr\n",
    "            starting_ele = curr.next\n",
    "            last_ele.next = None\n",
    "        \n",
    "        curr = curr.next\n",
    "        k += 1\n",
    "        \n",
    "        \n",
    "    xx = starting_ele\n",
    "    while starting_ele is not None:\n",
    "        if starting_ele.next == None:\n",
    "            starting_ele.next = start\n",
    "            return xx\n",
    "            break\n",
    "            \n",
    "        \n",
    "        starting_ele = starting_ele.next\n",
    "    \n",
    "arr=list(int(i) for i in input().strip().split(' '))\n",
    "\n",
    "head = ll(arr[:-1])\n",
    "i=int(input())\n",
    "head = append_linkedList(head, i)\n",
    "printll(head)"
   ]
  },
  {
   "cell_type": "code",
   "execution_count": null,
   "metadata": {},
   "outputs": [],
   "source": []
  }
 ],
 "metadata": {
  "kernelspec": {
   "display_name": "Python 3",
   "language": "python",
   "name": "python3"
  },
  "language_info": {
   "codemirror_mode": {
    "name": "ipython",
    "version": 3
   },
   "file_extension": ".py",
   "mimetype": "text/x-python",
   "name": "python",
   "nbconvert_exporter": "python",
   "pygments_lexer": "ipython3",
   "version": "3.7.4"
  }
 },
 "nbformat": 4,
 "nbformat_minor": 2
}
