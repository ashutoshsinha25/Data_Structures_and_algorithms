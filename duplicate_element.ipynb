{
 "cells": [
  {
   "cell_type": "code",
   "execution_count": 12,
   "metadata": {},
   "outputs": [
    {
     "name": "stdout",
     "output_type": "stream",
     "text": [
      "9\n",
      "0 7 2 5 4 7 1 3 6\n",
      "7\n"
     ]
    }
   ],
   "source": [
    "def merge(a1, a2, a):\n",
    "    \n",
    "    i = 0\n",
    "    j = 0\n",
    "    k = 0\n",
    "    \n",
    "    x = len(a1)\n",
    "    y = len(a2)\n",
    "    \n",
    "    \n",
    "    while i < x and j < y:\n",
    "        if a1[i] < a2[j]:\n",
    "            a[k] = a1[i]\n",
    "            k += 1\n",
    "            i += 1\n",
    "        else:\n",
    "            a[k] = a2[j]\n",
    "            k += 1\n",
    "            j += 1\n",
    "            \n",
    "    while i < x:\n",
    "        a[k] = a1[i]\n",
    "        k += 1\n",
    "        i += 1\n",
    "        \n",
    "    while j < y:\n",
    "        a[k] = a2[j]\n",
    "        k += 1\n",
    "        j += 1\n",
    "\n",
    "\n",
    "def mergeSortCN(a):\n",
    "    \n",
    "    if len(a) == 0 or len(a) == 1:\n",
    "        return\n",
    "    \n",
    "    mid = len(a) // 2\n",
    "    \n",
    "    a1 = a[:mid]\n",
    "    a2 = a[mid:]\n",
    "    \n",
    "    mergeSortCN(a1)\n",
    "    mergeSortCN(a2)\n",
    "    \n",
    "    merge(a1, a2, a)\n",
    "    \n",
    "def MissingNumber(a):\n",
    "    mergeSortCN(a)\n",
    "    x = len(a)-1\n",
    "    for i in range(x):\n",
    "        if a[i] == a[i+1]:\n",
    "            return a[i]\n",
    "            break\n",
    "            \n",
    "            \n",
    "n=int(input())\n",
    "arr=list(int(i) for i in input().strip().split(' '))\n",
    "print(MissingNumber(arr))"
   ]
  },
  {
   "cell_type": "code",
   "execution_count": null,
   "metadata": {},
   "outputs": [],
   "source": []
  }
 ],
 "metadata": {
  "kernelspec": {
   "display_name": "Python 3",
   "language": "python",
   "name": "python3"
  },
  "language_info": {
   "codemirror_mode": {
    "name": "ipython",
    "version": 3
   },
   "file_extension": ".py",
   "mimetype": "text/x-python",
   "name": "python",
   "nbconvert_exporter": "python",
   "pygments_lexer": "ipython3",
   "version": "3.7.4"
  }
 },
 "nbformat": 4,
 "nbformat_minor": 2
}
