{
 "cells": [
  {
   "cell_type": "code",
   "execution_count": 2,
   "metadata": {},
   "outputs": [],
   "source": [
    "import queue\n",
    "class BinaryTreeNode:\n",
    "    def __init__(self, data):\n",
    "        self.data = data\n",
    "        self.left = None\n",
    "        self.right = None"
   ]
  },
  {
   "cell_type": "code",
   "execution_count": 3,
   "metadata": {},
   "outputs": [],
   "source": [
    "def printLevelATNewLine(root):\n",
    "    # Given a binary tree, print the level order traversal. Make sure each level\n",
    "    # start in new line.\n",
    "    if root==None:\n",
    "        return\n",
    "    inputQ = queue.Queue()\n",
    "    outputQ = queue.Queue()\n",
    "    inputQ.put(root)\n",
    "    while not inputQ.empty():\n",
    "        while not inputQ.empty():\n",
    "            curr = inputQ.get()\n",
    "            print(curr.data, end=' ')\n",
    "            if curr.left!=None:\n",
    "                outputQ.put(curr.left)\n",
    "            if curr.right!=None:\n",
    "                outputQ.put(curr.right)\n",
    "        print()\n",
    "        inputQ, outputQ = outputQ, inputQ"
   ]
  },
  {
   "cell_type": "code",
   "execution_count": 27,
   "metadata": {},
   "outputs": [],
   "source": [
    "def buildTreePostOrder(postorder, inorder):\n",
    "    \n",
    "    if len(postorder) == 0:\n",
    "        return\n",
    "    \n",
    "    if len(postorder) == 1:\n",
    "        return BinaryTreeNode(postorder[0])\n",
    "    \n",
    "    \n",
    "    #find root in postorder\n",
    "    rootData = postorder[-1]\n",
    "    root = BinaryTreeNode(rootData)\n",
    "    \n",
    "    \n",
    "    #search for root in inOrder\n",
    "    for i in range(len(inorder)):\n",
    "        if inorder[i] == rootData:\n",
    "            break\n",
    "            \n",
    "    \n",
    "    #find inOrder of left and right Subtree\n",
    "    leftInorder = inorder[: i]\n",
    "    rightInorder = inorder[i+1 : ]\n",
    "    \n",
    "    x = len(leftInorder)\n",
    "    \n",
    "    #find postOrder of left and right subTree\n",
    "    leftPostorder = postorder[: x]\n",
    "    rightPostorder = postorder[x : -1]\n",
    "    \n",
    "    \n",
    "    leftSubTree = buildTreePostOrder(leftPostorder, leftInorder)\n",
    "    rightSubTree = buildTreePostOrder(rightPostorder, rightInorder)\n",
    "    \n",
    "    root.left = leftSubTree\n",
    "    root.right = rightSubTree\n",
    "    \n",
    "    return root"
   ]
  },
  {
   "cell_type": "code",
   "execution_count": 31,
   "metadata": {},
   "outputs": [
    {
     "name": "stdout",
     "output_type": "stream",
     "text": [
      "8 4 5 2 6 7 3 1\n",
      "4 8 2 5 1 6 3 7\n",
      "1 \n",
      "2 3 \n",
      "4 5 6 7 \n",
      "8 \n"
     ]
    }
   ],
   "source": [
    "postOrder = [int(i) for i in input().strip().split()]\n",
    "inorder = [int(i) for i in input().strip().split()]\n",
    "root = buildTreePostOrder(postOrder, inorder)\n",
    "printLevelATNewLine(root)"
   ]
  },
  {
   "cell_type": "code",
   "execution_count": null,
   "metadata": {},
   "outputs": [],
   "source": []
  }
 ],
 "metadata": {
  "kernelspec": {
   "display_name": "Python 3",
   "language": "python",
   "name": "python3"
  },
  "language_info": {
   "codemirror_mode": {
    "name": "ipython",
    "version": 3
   },
   "file_extension": ".py",
   "mimetype": "text/x-python",
   "name": "python",
   "nbconvert_exporter": "python",
   "pygments_lexer": "ipython3",
   "version": "3.7.4"
  }
 },
 "nbformat": 4,
 "nbformat_minor": 2
}
