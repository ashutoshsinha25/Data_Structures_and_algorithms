{
 "cells": [
  {
   "cell_type": "code",
   "execution_count": 29,
   "metadata": {},
   "outputs": [],
   "source": [
    "class Stack:\n",
    "    \n",
    "    def __init__(self):\n",
    "        self.__data = []\n",
    "        \n",
    "        \n",
    "    def push(self, item):        \n",
    "        self.__data.append(item)\n",
    "        \n",
    "        \n",
    "        \n",
    "    def pop(self):\n",
    "        if self.isEmpty():\n",
    "            print(\"Stack is Empty\")\n",
    "            return\n",
    "        return self.__data.pop()\n",
    "        \n",
    "        \n",
    "    def top(self):\n",
    "        if self.isEmpty():\n",
    "            print(\"Stack is Empty\")\n",
    "            return\n",
    "        \n",
    "        return self.__data[len(self.__data)-1]\n",
    "    \n",
    "        \n",
    "    def size(self):\n",
    "        return len(self.__data)\n",
    "        \n",
    "        \n",
    "    def isEmpty(self):\n",
    "        return self.size() == 0"
   ]
  },
  {
   "cell_type": "code",
   "execution_count": 32,
   "metadata": {},
   "outputs": [],
   "source": [
    "s = Stack()\n",
    "s.push(13)\n",
    "s.push(15)\n",
    "s.push(23)"
   ]
  },
  {
   "cell_type": "code",
   "execution_count": 33,
   "metadata": {},
   "outputs": [
    {
     "name": "stdout",
     "output_type": "stream",
     "text": [
      "23\n",
      "15\n",
      "13\n",
      "12\n",
      "0\n",
      "Stack is Empty\n",
      "None\n"
     ]
    }
   ],
   "source": [
    "while s.isEmpty() is False:\n",
    "    print(s.pop())\n",
    "\n",
    "print(s.size())\n",
    "print(s.top())"
   ]
  },
  {
   "cell_type": "code",
   "execution_count": null,
   "metadata": {},
   "outputs": [],
   "source": []
  }
 ],
 "metadata": {
  "kernelspec": {
   "display_name": "Python 3",
   "language": "python",
   "name": "python3"
  },
  "language_info": {
   "codemirror_mode": {
    "name": "ipython",
    "version": 3
   },
   "file_extension": ".py",
   "mimetype": "text/x-python",
   "name": "python",
   "nbconvert_exporter": "python",
   "pygments_lexer": "ipython3",
   "version": "3.7.4"
  }
 },
 "nbformat": 4,
 "nbformat_minor": 2
}
