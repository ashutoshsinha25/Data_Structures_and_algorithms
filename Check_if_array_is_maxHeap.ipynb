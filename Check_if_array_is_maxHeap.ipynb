{
 "cells": [
  {
   "cell_type": "code",
   "execution_count": 23,
   "metadata": {},
   "outputs": [],
   "source": [
    "import heapq\n",
    "\n",
    "def checkMaxHeap(lst):\n",
    "    \n",
    "    smallLst = []\n",
    "    heapq._heapify_max(smallLst)\n",
    "    \n",
    "    for i in range(len(lst)):\n",
    "        smallLst.append(lst[i])\n",
    "        heapq._siftdown_max(smallLst, 0, len(smallLst)-1)\n",
    "        \n",
    "        if lst[i] != smallLst[i]:\n",
    "            return False\n",
    "        \n",
    "    return True"
   ]
  },
  {
   "cell_type": "code",
   "execution_count": 24,
   "metadata": {},
   "outputs": [
    {
     "name": "stdout",
     "output_type": "stream",
     "text": [
      "10\n",
      "7 5 6 4 2 1 3\n",
      "true\n"
     ]
    }
   ],
   "source": [
    "n=int(input())\n",
    "lst=list(int(i) for i in input().strip().split(' '))\n",
    "print('true') if checkMaxHeap(lst) else print('false')"
   ]
  },
  {
   "cell_type": "code",
   "execution_count": null,
   "metadata": {},
   "outputs": [],
   "source": []
  }
 ],
 "metadata": {
  "kernelspec": {
   "display_name": "Python 3",
   "language": "python",
   "name": "python3"
  },
  "language_info": {
   "codemirror_mode": {
    "name": "ipython",
    "version": 3
   },
   "file_extension": ".py",
   "mimetype": "text/x-python",
   "name": "python",
   "nbconvert_exporter": "python",
   "pygments_lexer": "ipython3",
   "version": "3.7.4"
  }
 },
 "nbformat": 4,
 "nbformat_minor": 2
}
