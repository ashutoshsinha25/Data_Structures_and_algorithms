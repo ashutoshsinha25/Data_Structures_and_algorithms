{
 "cells": [
  {
   "cell_type": "code",
   "execution_count": 64,
   "metadata": {},
   "outputs": [],
   "source": [
    "class Queue:\n",
    "    \n",
    "    def __init__(self):\n",
    "        self.__arr = []\n",
    "        self.__front = 0\n",
    "        self.__count = 0\n",
    "\n",
    "        \n",
    "        \n",
    "    def enqueue(self, item):\n",
    "        self.__arr.append(item)\n",
    "        self.__count += 1\n",
    "        \n",
    "        \n",
    "    def dequeue(self):\n",
    "        if self.__count > 0:\n",
    "            ele = self.__arr[self.__front]\n",
    "            self.__front += 1\n",
    "            self.__count -= 1\n",
    "            return ele\n",
    "    \n",
    "    def size(self):\n",
    "        return self.__count\n",
    "    \n",
    "    \n",
    "    def isEmpty(self):\n",
    "        return self.__count == 0\n",
    "    \n",
    "    \n",
    "    def front(self):\n",
    "        if not self.isEmpty():\n",
    "            return self.__arr[self.__front]\n",
    "        else:\n",
    "            return -1"
   ]
  },
  {
   "cell_type": "code",
   "execution_count": 65,
   "metadata": {},
   "outputs": [],
   "source": [
    "a = Queue()\n",
    "a.enqueue(1)"
   ]
  },
  {
   "cell_type": "code",
   "execution_count": 66,
   "metadata": {},
   "outputs": [
    {
     "name": "stdout",
     "output_type": "stream",
     "text": [
      "0\n",
      "True\n",
      "-1\n"
     ]
    }
   ],
   "source": [
    "a.dequeue()\n",
    "print(a.size())\n",
    "print(a.isEmpty())\n",
    "print(a.front())"
   ]
  },
  {
   "cell_type": "code",
   "execution_count": null,
   "metadata": {},
   "outputs": [],
   "source": []
  }
 ],
 "metadata": {
  "kernelspec": {
   "display_name": "Python 3",
   "language": "python",
   "name": "python3"
  },
  "language_info": {
   "codemirror_mode": {
    "name": "ipython",
    "version": 3
   },
   "file_extension": ".py",
   "mimetype": "text/x-python",
   "name": "python",
   "nbconvert_exporter": "python",
   "pygments_lexer": "ipython3",
   "version": "3.7.4"
  }
 },
 "nbformat": 4,
 "nbformat_minor": 2
}
