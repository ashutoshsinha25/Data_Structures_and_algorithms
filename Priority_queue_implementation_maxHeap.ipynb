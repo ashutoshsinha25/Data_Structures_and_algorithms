{
 "cells": [
  {
   "cell_type": "code",
   "execution_count": 38,
   "metadata": {},
   "outputs": [],
   "source": [
    "class PriorityQueueNode:\n",
    "    def __init__(self,ele,priority):\n",
    "        self.ele = ele\n",
    "        self.priority = priority\n",
    "        \n",
    "class PriorityQueue:\n",
    "    def __init__(self):\n",
    "        self.pq = []\n",
    "        \n",
    "    def isEmpty(self):\n",
    "        return self.getSize() == 0\n",
    "    \n",
    "    def getSize(self):\n",
    "        return len(self.pq)\n",
    "\n",
    "    def getMax(self):\n",
    "        if self.isEmpty():\n",
    "            return None\n",
    "        return self.pq[0].ele\n",
    "      \n",
    "    \n",
    "    def __percolateUp(self):\n",
    "        \n",
    "        childIndex = self.getSize() -1\n",
    "        parentIndex = (childIndex -1) // 2\n",
    "        while childIndex > 0:\n",
    "            if self.pq[childIndex].priority > self.pq[parentIndex].priority:\n",
    "                self.pq[childIndex], self.pq[parentIndex] = self.pq[parentIndex], self.pq[childIndex]\n",
    "                childIndex = parentIndex\n",
    "                parentIndex = (childIndex -1) // 2\n",
    "            \n",
    "            else:\n",
    "                break\n",
    "            \n",
    "    \n",
    "    \n",
    "    def insert(self,ele,priority):\n",
    "        pqNode = PriorityQueueNode(ele, priority)\n",
    "        self.pq.append(pqNode)\n",
    "        self.__percolateUp()\n",
    "        \n",
    "    def __percolateDown(self):\n",
    "        parentIndex = 0\n",
    "        leftChildIndex = (2 * parentIndex) + 1\n",
    "        rightChildIndex = (2 * parentIndex) + 2\n",
    "        \n",
    "        while leftChildIndex < self.getSize():\n",
    "            maxPriority = parentIndex\n",
    "            \n",
    "            if self.pq[maxPriority].priority < self.pq[leftChildIndex].priority:\n",
    "                maxPriority = leftChildIndex\n",
    "                \n",
    "            if rightChildIndex < self.getSize() and self.pq[maxPriority].priority < self.pq[rightChildIndex].priority:\n",
    "                maxPriority = rightChildIndex\n",
    "                \n",
    "            if maxPriority == parentIndex:\n",
    "                break\n",
    "                \n",
    "            self.pq[parentIndex], self.pq[maxPriority] = self.pq[maxPriority], self.pq[parentIndex]\n",
    "            parentIndex = maxPriority\n",
    "            leftChildIndex = (2 * parentIndex) + 1\n",
    "            rightChildIndex = (2 * parentIndex) + 2\n",
    "        \n",
    "        \n",
    "\n",
    "    def removeMax(self):\n",
    "        if self.isEmpty():\n",
    "            return\n",
    "        else:\n",
    "            removed = self.pq[0].ele\n",
    "            self.pq[0] = self.pq[self.getSize() -1]\n",
    "            self.pq.pop()\n",
    "            \n",
    "            self.__percolateDown()\n",
    "            return removed"
   ]
  },
  {
   "cell_type": "code",
   "execution_count": 39,
   "metadata": {},
   "outputs": [],
   "source": [
    "pq = PriorityQueue()\n",
    "pq.insert('A', 10)\n",
    "pq.insert('C', 5)\n",
    "pq.insert('B', 19)\n",
    "pq.insert('D', 4)"
   ]
  },
  {
   "cell_type": "code",
   "execution_count": 40,
   "metadata": {},
   "outputs": [
    {
     "name": "stdout",
     "output_type": "stream",
     "text": [
      "B\n",
      "A\n",
      "C\n",
      "D\n"
     ]
    }
   ],
   "source": [
    "while pq.getSize() != 0:\n",
    "    print(pq.removeMax())"
   ]
  },
  {
   "cell_type": "code",
   "execution_count": null,
   "metadata": {},
   "outputs": [],
   "source": []
  }
 ],
 "metadata": {
  "kernelspec": {
   "display_name": "Python 3",
   "language": "python",
   "name": "python3"
  },
  "language_info": {
   "codemirror_mode": {
    "name": "ipython",
    "version": 3
   },
   "file_extension": ".py",
   "mimetype": "text/x-python",
   "name": "python",
   "nbconvert_exporter": "python",
   "pygments_lexer": "ipython3",
   "version": "3.7.4"
  }
 },
 "nbformat": 4,
 "nbformat_minor": 2
}
