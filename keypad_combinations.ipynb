{
 "cells": [
  {
   "cell_type": "code",
   "execution_count": 2,
   "metadata": {},
   "outputs": [],
   "source": [
    "def keypadCombo(n, d):\n",
    "    if n == 0:\n",
    "        return [\"\"]\n",
    "    \n",
    "    frontPart = n //  10\n",
    "    backPart = n % 10\n",
    "    \n",
    "    comboFront = keypadCombo(frontPart, d)\n",
    "    finalCombo = []\n",
    "    \n",
    "    k = d[backPart]\n",
    "    \n",
    "    for i in comboFront:\n",
    "        for j in k:\n",
    "            finalCombo.append(i + j)\n",
    "            \n",
    "    return finalCombo"
   ]
  },
  {
   "cell_type": "code",
   "execution_count": 3,
   "metadata": {},
   "outputs": [],
   "source": [
    "d = {0: \"\", 1: \"\", 2:\"abc\", 3:\"def\", 4:\"ghi\", 5:\"jkl\", \n",
    "     6:\"mno\", 7:\"pqrs\", 8:\"tuv\", 9: \"wxyz\"}"
   ]
  },
  {
   "cell_type": "code",
   "execution_count": 4,
   "metadata": {},
   "outputs": [
    {
     "name": "stdout",
     "output_type": "stream",
     "text": [
      "9\n",
      "\n",
      "ad\n",
      "ae\n",
      "af\n",
      "bd\n",
      "be\n",
      "bf\n",
      "cd\n",
      "ce\n",
      "cf\n"
     ]
    }
   ],
   "source": [
    "n = 23\n",
    "ans = keypadCombo(n, d)\n",
    "print(len(ans))\n",
    "print()\n",
    "for i in ans:\n",
    "    print(i)"
   ]
  },
  {
   "cell_type": "code",
   "execution_count": null,
   "metadata": {},
   "outputs": [],
   "source": [
    " "
   ]
  }
 ],
 "metadata": {
  "kernelspec": {
   "display_name": "Python 3",
   "language": "python",
   "name": "python3"
  },
  "language_info": {
   "codemirror_mode": {
    "name": "ipython",
    "version": 3
   },
   "file_extension": ".py",
   "mimetype": "text/x-python",
   "name": "python",
   "nbconvert_exporter": "python",
   "pygments_lexer": "ipython3",
   "version": "3.7.4"
  }
 },
 "nbformat": 4,
 "nbformat_minor": 2
}
