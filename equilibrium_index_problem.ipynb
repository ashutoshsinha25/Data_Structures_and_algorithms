{
 "cells": [
  {
   "cell_type": "code",
   "execution_count": 20,
   "metadata": {},
   "outputs": [
    {
     "name": "stdout",
     "output_type": "stream",
     "text": [
      "7\n",
      "-7 1 5 2 -4 3 0\n",
      "3\n"
     ]
    }
   ],
   "source": [
    "def equilibriumIndex(a):\n",
    "\n",
    "    default_left = a[0]\n",
    "    default_right = 0\n",
    "\n",
    "    x = len(a)\n",
    "\n",
    "    for i in range(2, x):\n",
    "        default_right += a[i]\n",
    "\n",
    "\n",
    "    i = 1\n",
    "    stop = False\n",
    "    z = x - 1\n",
    "\n",
    "\n",
    "    while i < z:\n",
    "        if default_left == default_right:\n",
    "            return i\n",
    "            stop = True\n",
    "            break\n",
    "\n",
    "        default_left += a[i]\n",
    "        default_right -= a[i+1]\n",
    "\n",
    "        i += 1\n",
    "\n",
    "    if not(stop):\n",
    "        return -1\n",
    "    \n",
    "    \n",
    "n = int(input())\n",
    "arr = [int(i) for i in input().strip().split()]\n",
    "print(equilibriumIndex(arr))"
   ]
  },
  {
   "cell_type": "code",
   "execution_count": 3,
   "metadata": {},
   "outputs": [
    {
     "data": {
      "text/plain": [
       "31"
      ]
     },
     "execution_count": 3,
     "metadata": {},
     "output_type": "execute_result"
    }
   ],
   "source": []
  },
  {
   "cell_type": "code",
   "execution_count": null,
   "metadata": {},
   "outputs": [],
   "source": []
  }
 ],
 "metadata": {
  "kernelspec": {
   "display_name": "Python 3",
   "language": "python",
   "name": "python3"
  },
  "language_info": {
   "codemirror_mode": {
    "name": "ipython",
    "version": 3
   },
   "file_extension": ".py",
   "mimetype": "text/x-python",
   "name": "python",
   "nbconvert_exporter": "python",
   "pygments_lexer": "ipython3",
   "version": "3.7.4"
  }
 },
 "nbformat": 4,
 "nbformat_minor": 2
}
