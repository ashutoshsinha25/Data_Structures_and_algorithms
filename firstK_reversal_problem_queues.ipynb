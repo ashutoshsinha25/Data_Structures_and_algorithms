{
 "cells": [
  {
   "cell_type": "code",
   "execution_count": 29,
   "metadata": {},
   "outputs": [
    {
     "name": "stdout",
     "output_type": "stream",
     "text": [
      "7\n",
      "3 4 2 5 6 7 8\n",
      "7\n",
      "8 7 6 5 2 4 3 "
     ]
    }
   ],
   "source": [
    "import queue\n",
    "def reverseK(q1, k):\n",
    "    \n",
    "    if k > q1.qsize():\n",
    "        return q1\n",
    "    \n",
    "    elif k <= 1:\n",
    "        return q1\n",
    "    \n",
    "    \n",
    "    else:\n",
    "        s = []\n",
    "        while k != 0:\n",
    "            s.append(q1.get())\n",
    "            k -= 1\n",
    "            \n",
    "            \n",
    "        if q1.qsize() == 0:\n",
    "            while len(s) != 0:\n",
    "                q.put(s.pop())\n",
    "                \n",
    "            return q\n",
    "        \n",
    "        else:\n",
    "            q2 = queue.Queue()\n",
    "            while q1.qsize() != 0:\n",
    "                q2.put(q1.get())\n",
    "                \n",
    "                \n",
    "            while len(s) != 0:\n",
    "                q1.put(s.pop())\n",
    "                \n",
    "            while q2.qsize() != 0:\n",
    "                q1.put(q2.get())\n",
    "                \n",
    "            return q1\n",
    "        \n",
    "n = int(input())\n",
    "li = [int(ele) for ele in input().split()]\n",
    "\n",
    "q = queue.Queue()\n",
    "for ele in li:\n",
    "    q.put(ele)\n",
    "    \n",
    "k = int(input())\n",
    "reverseK(q,k) \n",
    "while(q.qsize()>0):\n",
    "    print(q.get(), end = \" \")"
   ]
  },
  {
   "cell_type": "code",
   "execution_count": null,
   "metadata": {},
   "outputs": [],
   "source": []
  }
 ],
 "metadata": {
  "kernelspec": {
   "display_name": "Python 3",
   "language": "python",
   "name": "python3"
  },
  "language_info": {
   "codemirror_mode": {
    "name": "ipython",
    "version": 3
   },
   "file_extension": ".py",
   "mimetype": "text/x-python",
   "name": "python",
   "nbconvert_exporter": "python",
   "pygments_lexer": "ipython3",
   "version": "3.7.4"
  }
 },
 "nbformat": 4,
 "nbformat_minor": 2
}
