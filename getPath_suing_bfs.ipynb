{
 "cells": [
  {
   "cell_type": "code",
   "execution_count": 83,
   "metadata": {},
   "outputs": [
    {
     "name": "stdout",
     "output_type": "stream",
     "text": [
      "6 3\n",
      "5 3\n",
      "0 1\n",
      "3 4\n",
      "0 3\n"
     ]
    }
   ],
   "source": [
    "## Read input as specified in the question.\n",
    "## Print output as specified in the question.\n",
    "## Read input as specified in the question.\n",
    "## Print output as specified in the question.\n",
    "import queue\n",
    "class graph:\n",
    "    def __init__(self,nvertices):\n",
    "        self.nvertices=nvertices\n",
    "        self.adjmatrix=[[0 for i in range(nvertices)] for j in range(nvertices)]\n",
    "    def addedge(self,v1,v2):\n",
    "        self.adjmatrix[v1][v2]=1\n",
    "        self.adjmatrix[v2][v1]=1\n",
    "    def removeedge(self):\n",
    "        if self.containsedge(v1,v2) is False:\n",
    "            return\n",
    "        self.adjmatrix[v1][v2]=0\n",
    "        self.adjmatrix[v2][v1]=0\n",
    "    def containsedge(self,v1,v2):\n",
    "        if self.adjmatrix[v1][v2]>0:\n",
    "            return True\n",
    "        else:\n",
    "            return False\n",
    "    def __str__(self):\n",
    "        return str(self.adjmatrix)\n",
    "    \n",
    "    def __getpathbfs(self,sv,ev,visited):\n",
    "        map={}\n",
    "        q=queue.Queue()\n",
    "        if self.adjmatrix[sv][ev]==1 and sv==ev:\n",
    "            ans=[]\n",
    "            ans.append(sv)\n",
    "            return ans\n",
    "        q.put(sv)\n",
    "        visited[sv]=True\n",
    "        while q.empty() is False:\n",
    "            \n",
    "            front=q.get()\n",
    "            \n",
    "            for i in range(self.nvertices):\n",
    "                \n",
    "                if self.adjmatrix[front][i]==1 and visited[i] is False:\n",
    "                    map[i]=front\n",
    "                    q.put(i)\n",
    "                    visited[i]=True\n",
    "                    \n",
    "                    if i==ev:\n",
    "                        ans=[]\n",
    "                        ans.append(ev)\n",
    "                        value=map[ev]\n",
    "                        \n",
    "                        while value!=sv:\n",
    "                            ans.append(value)\n",
    "                            value=map[value]\n",
    "                        ans.append(value)\n",
    "                        return ans\n",
    "        return []\n",
    "    def getpathbfs(self,sv,ev):\n",
    "        visited=[False for i in range(self.nvertices)]\n",
    "        return self.__getpathbfs(sv,ev,visited)\n",
    "  \n",
    "  \n",
    "li=input().strip().split()\n",
    "v=int(li[0])\n",
    "e=int(li[1])\n",
    "g=graph(v)\n",
    "for i in range(e):\n",
    "    arr=input().strip().split()\n",
    "    fv=int(arr[0])\n",
    "    sv=int(arr[1])\n",
    "    g.addedge(fv,sv)\n",
    "    \n",
    "li=input().strip().split()\n",
    "sv=int(li[0])\n",
    "ev=int(li[1])\n",
    "\n",
    "li=g.getpathbfs(sv,ev)\n",
    "if li!=None:\n",
    "    for element in li:\n",
    "        print(element,end=\" \")"
   ]
  },
  {
   "cell_type": "code",
   "execution_count": null,
   "metadata": {},
   "outputs": [],
   "source": []
  },
  {
   "cell_type": "code",
   "execution_count": null,
   "metadata": {},
   "outputs": [],
   "source": []
  }
 ],
 "metadata": {
  "kernelspec": {
   "display_name": "Python 3",
   "language": "python",
   "name": "python3"
  },
  "language_info": {
   "codemirror_mode": {
    "name": "ipython",
    "version": 3
   },
   "file_extension": ".py",
   "mimetype": "text/x-python",
   "name": "python",
   "nbconvert_exporter": "python",
   "pygments_lexer": "ipython3",
   "version": "3.7.4"
  }
 },
 "nbformat": 4,
 "nbformat_minor": 2
}
