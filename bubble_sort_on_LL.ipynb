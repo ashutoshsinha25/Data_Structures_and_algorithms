{
 "cells": [
  {
   "cell_type": "code",
   "execution_count": 56,
   "metadata": {},
   "outputs": [
    {
     "name": "stdout",
     "output_type": "stream",
     "text": [
      "1 4 5 2 -1\n",
      "1 2 4 5 \n"
     ]
    }
   ],
   "source": [
    "class Node:\n",
    "    def __init__(self, data):\n",
    "        self.data = data\n",
    "        self.next = None\n",
    "    \n",
    "\n",
    "def ll(arr):\n",
    "    if len(arr)==0:\n",
    "        return None\n",
    "    head = Node(arr[0])\n",
    "    last = head\n",
    "    for data in arr[1:]:\n",
    "        last.next = Node(data)\n",
    "        last = last.next\n",
    "    return head\n",
    "\n",
    "def printll(head):\n",
    "    while head:\n",
    "        print(head.data, end=' ')\n",
    "        head = head.next\n",
    "    print()\n",
    "\n",
    "def length(head):\n",
    "    curr = head\n",
    "    c = 0\n",
    "    while curr is not None:\n",
    "        curr = curr.next\n",
    "        c += 1\n",
    "        \n",
    "    return c\n",
    "        \n",
    "def bubbleSort(head):\n",
    "    x = length(head)\n",
    "    \n",
    "    for i in range(x):\n",
    "        curr = head\n",
    "        prev = None\n",
    "        sNext = curr.next\n",
    "        \n",
    "        while sNext is not None:\n",
    "            \n",
    "            if curr.data > sNext.data:\n",
    "                if prev == None:\n",
    "                    curr.next = sNext.next\n",
    "                    sNext.next = curr\n",
    "                    prev = sNext\n",
    "                    sNext = curr.next\n",
    "                    head = prev\n",
    "                    \n",
    "                    \n",
    "                else:\n",
    "                    prev.next = curr.next\n",
    "                    curr.next = sNext.next\n",
    "                    sNext.next = curr\n",
    "                    prev = prev.next\n",
    "                    sNext = curr.next\n",
    "\n",
    "                    \n",
    "            \n",
    "            else:\n",
    "                prev = curr\n",
    "                curr = curr.next\n",
    "                sNext = sNext.next\n",
    "                \n",
    "            \n",
    "            \n",
    "    return head\n",
    "        \n",
    "    \n",
    "    \n",
    "arr = list(int(i) for i in input().strip().split(' '))\n",
    "head = ll(arr[:-1])\n",
    "x = bubbleSort(head)\n",
    "printll(x)"
   ]
  },
  {
   "cell_type": "code",
   "execution_count": null,
   "metadata": {},
   "outputs": [],
   "source": []
  }
 ],
 "metadata": {
  "kernelspec": {
   "display_name": "Python 3",
   "language": "python",
   "name": "python3"
  },
  "language_info": {
   "codemirror_mode": {
    "name": "ipython",
    "version": 3
   },
   "file_extension": ".py",
   "mimetype": "text/x-python",
   "name": "python",
   "nbconvert_exporter": "python",
   "pygments_lexer": "ipython3",
   "version": "3.7.4"
  }
 },
 "nbformat": 4,
 "nbformat_minor": 2
}
