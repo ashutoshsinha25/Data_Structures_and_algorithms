{
 "cells": [
  {
   "cell_type": "code",
   "execution_count": 61,
   "metadata": {},
   "outputs": [
    {
     "name": "stdout",
     "output_type": "stream",
     "text": [
      "1 11 3 6 8 0 9 -1\n",
      "1 11 3 9 6 8 0 \n"
     ]
    }
   ],
   "source": [
    "class Node:\n",
    "    def __init__(self, data):\n",
    "        self.data = data\n",
    "        self.next = None\n",
    "    \n",
    "\n",
    "def ll(arr):\n",
    "    if len(arr)==0:\n",
    "        return None\n",
    "    head = Node(arr[0])\n",
    "    last = head\n",
    "    for data in arr[1:]:\n",
    "        last.next = Node(data)\n",
    "        last = last.next\n",
    "    return head\n",
    "\n",
    "def printll(head):\n",
    "    while head:\n",
    "        print(head.data, end=' ')\n",
    "        head = head.next\n",
    "    print()\n",
    "    \n",
    "    \n",
    "def oddEven(head):\n",
    "    \n",
    "    oddHead = None\n",
    "    oddTail = None\n",
    "    \n",
    "    evenHead = None\n",
    "    evenTail = None\n",
    "    \n",
    "    curr = head\n",
    "    \n",
    "    \n",
    "    while curr is not None:\n",
    "        if curr.data % 2 == 0:\n",
    "            \n",
    "            if evenHead is None:\n",
    "                evenHead = curr\n",
    "                evenTail = curr\n",
    "                \n",
    "            else:\n",
    "                evenTail.next = curr\n",
    "                evenTail = curr\n",
    "        \n",
    "        else:\n",
    "            if oddHead is None:\n",
    "                oddHead = curr\n",
    "                oddTail = curr\n",
    "                \n",
    "            else:\n",
    "                oddTail.next = curr\n",
    "                oddTail = curr\n",
    "            \n",
    "                \n",
    "        curr = curr.next\n",
    "        \n",
    "        if curr is None:\n",
    "            if oddHead is None:\n",
    "                evenTail.next = None\n",
    "                return evenHead\n",
    "            \n",
    "            elif evenHead is None:\n",
    "                oddTail.next = None\n",
    "                return oddHead\n",
    "            \n",
    "            else:\n",
    "                oddTail.next = None\n",
    "                evenTail.next = None\n",
    "\n",
    "                oddTail.next = evenHead\n",
    "                return oddHead\n",
    "                \n",
    "\n",
    "arr=list(int(i) for i in input().strip().split(' '))\n",
    "head = ll(arr[:-1])\n",
    "head = oddEven(head)\n",
    "printll(head)"
   ]
  },
  {
   "cell_type": "code",
   "execution_count": null,
   "metadata": {},
   "outputs": [],
   "source": []
  }
 ],
 "metadata": {
  "kernelspec": {
   "display_name": "Python 3",
   "language": "python",
   "name": "python3"
  },
  "language_info": {
   "codemirror_mode": {
    "name": "ipython",
    "version": 3
   },
   "file_extension": ".py",
   "mimetype": "text/x-python",
   "name": "python",
   "nbconvert_exporter": "python",
   "pygments_lexer": "ipython3",
   "version": "3.7.4"
  }
 },
 "nbformat": 4,
 "nbformat_minor": 2
}
