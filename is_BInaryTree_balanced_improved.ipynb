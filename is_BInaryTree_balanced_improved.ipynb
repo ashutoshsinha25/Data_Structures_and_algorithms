{
 "cells": [
  {
   "cell_type": "code",
   "execution_count": 1,
   "metadata": {},
   "outputs": [],
   "source": [
    "class BinaryTreeNode:\n",
    "    def __init__(self, data):\n",
    "        self.data = data\n",
    "        self.left = None\n",
    "        self.right = None"
   ]
  },
  {
   "cell_type": "code",
   "execution_count": 2,
   "metadata": {},
   "outputs": [],
   "source": [
    "def printTreeDetailed(root):\n",
    "    if root == None:\n",
    "        return\n",
    "    \n",
    "    \n",
    "    print(root.data, end = ': ')\n",
    "    \n",
    "    if root.left != None:\n",
    "        print(\"L:\", root.left.data, end = ':')\n",
    "        \n",
    "        \n",
    "    if root.right != None:\n",
    "        print(\"R:\", root.right.data, end = \"\")\n",
    "    \n",
    "    print()\n",
    "    printTreeDetailed(root.left)\n",
    "    printTreeDetailed(root.right)"
   ]
  },
  {
   "cell_type": "code",
   "execution_count": 3,
   "metadata": {},
   "outputs": [],
   "source": [
    "def treeInput():\n",
    "    rootData = int(input())\n",
    "    \n",
    "    if rootData == -1:\n",
    "        return None\n",
    "    \n",
    "    \n",
    "    root = BinaryTreeNode(rootData)\n",
    "    leftTree = treeInput()\n",
    "    rightTree = treeInput()\n",
    "    root.left = leftTree\n",
    "    root.right = rightTree\n",
    "    return root"
   ]
  },
  {
   "cell_type": "code",
   "execution_count": 18,
   "metadata": {},
   "outputs": [],
   "source": [
    "def isBalancedv2(root, isBal = True):\n",
    "    if root == None:\n",
    "        return 0, isBal\n",
    "    \n",
    "    \n",
    "    l = isBalancedv2(root.left, isBal)\n",
    "    r = isBalancedv2(root.right, isBal)\n",
    "    \n",
    "    \n",
    "    if l[1] == r[1] and abs(l[0] - r[0]) < 2:\n",
    "        return max(l[0], r[0]) + 1, isBal\n",
    "    \n",
    "    else:\n",
    "        isBal = False\n",
    "        return max(l[0], r[0]), isBal\n",
    "    \n",
    "    \n",
    "def isBalancedv3(root):\n",
    "    if root == None:\n",
    "        return 0, True\n",
    "    \n",
    "    \n",
    "    \n",
    "    lh, isLeftBal = isBalancedv3(root.left)\n",
    "    rh, isRightBal = isBalancedv3(root.right)\n",
    "    \n",
    "    h = 1 + max(lh, rh)\n",
    "    \n",
    "    if abs(lh - rh) > 1:\n",
    "        return h, False\n",
    "    \n",
    "    elif isLeftBal and isRightBal:\n",
    "        return h, True\n",
    "    else:\n",
    "        return h, False"
   ]
  },
  {
   "cell_type": "code",
   "execution_count": 20,
   "metadata": {},
   "outputs": [
    {
     "name": "stdout",
     "output_type": "stream",
     "text": [
      "1\n",
      "2\n",
      "4\n",
      "5\n",
      "-1\n",
      "-1\n",
      "-1\n",
      "-1\n",
      "3\n",
      "-1\n",
      "6\n",
      "-1\n",
      "-1\n",
      "1: L: 2:R: 3\n",
      "2: L: 4:\n",
      "4: L: 5:\n",
      "5: \n",
      "3: R: 6\n",
      "6: \n",
      "\n",
      "False\n"
     ]
    }
   ],
   "source": [
    "root = treeInput()\n",
    "printTreeDetailed(root)\n",
    "\n",
    "print()\n",
    "\n",
    "height, check = isBalancedv3(root)\n",
    "print(check)"
   ]
  },
  {
   "cell_type": "code",
   "execution_count": null,
   "metadata": {},
   "outputs": [],
   "source": []
  }
 ],
 "metadata": {
  "kernelspec": {
   "display_name": "Python 3",
   "language": "python",
   "name": "python3"
  },
  "language_info": {
   "codemirror_mode": {
    "name": "ipython",
    "version": 3
   },
   "file_extension": ".py",
   "mimetype": "text/x-python",
   "name": "python",
   "nbconvert_exporter": "python",
   "pygments_lexer": "ipython3",
   "version": "3.7.4"
  }
 },
 "nbformat": 4,
 "nbformat_minor": 2
}
