{
 "cells": [
  {
   "cell_type": "code",
   "execution_count": 58,
   "metadata": {},
   "outputs": [
    {
     "name": "stdout",
     "output_type": "stream",
     "text": [
      "\n"
     ]
    }
   ],
   "source": [
    "class Node:\n",
    "    def __init__(self, data):\n",
    "        self.data = data\n",
    "        self.next = None\n",
    "    \n",
    "\n",
    "def ll(arr):\n",
    "    if len(arr)==0:\n",
    "        return None\n",
    "    head = Node(arr[0])\n",
    "    last = head\n",
    "    for data in arr[1:]:\n",
    "        last.next = Node(data)\n",
    "        last = last.next\n",
    "    return head\n",
    "\n",
    "def printll(head):\n",
    "    while head:\n",
    "        print(head.data, end=' ')\n",
    "        head = head.next\n",
    "    print()\n",
    "\n",
    "def mN(head, m, n):\n",
    "    \n",
    "    if m == 0:\n",
    "        return None\n",
    "    elif n == 0:\n",
    "        return head\n",
    "    else:\n",
    "\n",
    "        temp1 = head\n",
    "        temp2 = head\n",
    "\n",
    "        while temp1 is not None and temp2 is not None:\n",
    "\n",
    "            c1 = 1\n",
    "            c2 = 1\n",
    "\n",
    "            while c1 != m and temp1 is not None:\n",
    "                temp1 = temp1.next\n",
    "                c1 += 1\n",
    "\n",
    "            if temp1 is not None:\n",
    "                temp2 = temp1.next\n",
    "\n",
    "            else:\n",
    "                return head\n",
    "\n",
    "            while c2 != n and temp2 is not None:\n",
    "                temp2 = temp2.next\n",
    "                c2 += 1\n",
    "\n",
    "            if temp2 is not None:\n",
    "                temp2 = temp2.next\n",
    "                temp1.next = temp2\n",
    "                temp1 = temp2\n",
    "\n",
    "            else:\n",
    "                if temp1 is not None:\n",
    "                    temp1.next = None\n",
    "                    return head\n",
    "                else:\n",
    "                    return head\n",
    "        else:\n",
    "            return head\n",
    "        \n",
    "    \n",
    "    \n",
    "arr=list(int(i) for i in input().strip().split(' '))\n",
    "# Create a Linked list after removing -1 from list\n",
    "head = ll(arr[:-1])\n",
    "m=int(input())\n",
    "n=int(input())\n",
    "head = mN(head, m, n)\n",
    "printll(head) "
   ]
  },
  {
   "cell_type": "code",
   "execution_count": null,
   "metadata": {},
   "outputs": [],
   "source": []
  }
 ],
 "metadata": {
  "kernelspec": {
   "display_name": "Python 3",
   "language": "python",
   "name": "python3"
  },
  "language_info": {
   "codemirror_mode": {
    "name": "ipython",
    "version": 3
   },
   "file_extension": ".py",
   "mimetype": "text/x-python",
   "name": "python",
   "nbconvert_exporter": "python",
   "pygments_lexer": "ipython3",
   "version": "3.7.4"
  }
 },
 "nbformat": 4,
 "nbformat_minor": 2
}
