{
 "cells": [
  {
   "cell_type": "code",
   "execution_count": 5,
   "metadata": {},
   "outputs": [
    {
     "name": "stdout",
     "output_type": "stream",
     "text": [
      "3\n",
      "15 20 12\n",
      "\n",
      "12\n",
      "20\n",
      "20 12\n",
      "15\n",
      "15 12\n",
      "15 20\n",
      "15 20 12\n"
     ]
    }
   ],
   "source": [
    "def subset(arr):\n",
    "\n",
    "    output=[]\n",
    "    if len(arr)==0:\n",
    "        output.append([])\n",
    "        return output\n",
    "    \n",
    "    smallarr=arr[1:]\n",
    "    smallset=subset(smallarr)\n",
    "   \n",
    "    for i in range(len(smallset)):\n",
    "       \n",
    "        output.append(smallset[i])\n",
    "    \n",
    "    for j in range(len(smallset)):\n",
    "        a=[]\n",
    "        a.append(arr[0])\n",
    "        a=a+smallset[j]\n",
    "        output.append(a)\n",
    "        \n",
    "        \n",
    "    return output\n",
    "\n",
    "n=int(input())\n",
    "li=[int(x) for x in input().split()]\n",
    "ans=subset(li)\n",
    "for i in ans:\n",
    "    print(*i)"
   ]
  },
  {
   "cell_type": "code",
   "execution_count": null,
   "metadata": {},
   "outputs": [],
   "source": []
  }
 ],
 "metadata": {
  "kernelspec": {
   "display_name": "Python 3",
   "language": "python",
   "name": "python3"
  },
  "language_info": {
   "codemirror_mode": {
    "name": "ipython",
    "version": 3
   },
   "file_extension": ".py",
   "mimetype": "text/x-python",
   "name": "python",
   "nbconvert_exporter": "python",
   "pygments_lexer": "ipython3",
   "version": "3.7.4"
  }
 },
 "nbformat": 4,
 "nbformat_minor": 2
}
