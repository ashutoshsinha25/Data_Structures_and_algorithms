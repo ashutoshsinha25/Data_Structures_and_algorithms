{
 "cells": [
  {
   "cell_type": "code",
   "execution_count": 7,
   "metadata": {},
   "outputs": [],
   "source": [
    "def minNo(lst, i):\n",
    "    \n",
    "    if len(lst) == 0:\n",
    "        return\n",
    "    \n",
    "    if len(lst) == i+1:\n",
    "        print(lst[i])\n",
    "        return\n",
    "    \n",
    "    if lst[i] < lst[i+1]:\n",
    "        lst[i], lst[i+1] = lst[i+1], lst[i]\n",
    "        minNo(lst, i+1)\n",
    "        \n",
    "    else:\n",
    "        minNo(lst, i+1)"
   ]
  },
  {
   "cell_type": "code",
   "execution_count": 11,
   "metadata": {},
   "outputs": [
    {
     "name": "stdout",
     "output_type": "stream",
     "text": [
      "-1\n"
     ]
    }
   ],
   "source": [
    "lst = [0, 1, -1]\n",
    "i = 0\n",
    "minNo(lst, i)"
   ]
  },
  {
   "cell_type": "code",
   "execution_count": 12,
   "metadata": {},
   "outputs": [],
   "source": [
    "def minList(l, minSoFar = 10000000):\n",
    "    if len(l) == 0:\n",
    "        print(minSoFar)\n",
    "        return\n",
    "    \n",
    "    newMin = min(minSoFar, l[0])\n",
    "    minList(l[1:], newMin)"
   ]
  },
  {
   "cell_type": "code",
   "execution_count": 13,
   "metadata": {},
   "outputs": [
    {
     "name": "stdout",
     "output_type": "stream",
     "text": [
      "0\n"
     ]
    }
   ],
   "source": [
    "lst = [4, 2, 1, 0, 5]\n",
    "minList(lst)"
   ]
  },
  {
   "cell_type": "code",
   "execution_count": null,
   "metadata": {},
   "outputs": [],
   "source": []
  }
 ],
 "metadata": {
  "kernelspec": {
   "display_name": "Python 3",
   "language": "python",
   "name": "python3"
  },
  "language_info": {
   "codemirror_mode": {
    "name": "ipython",
    "version": 3
   },
   "file_extension": ".py",
   "mimetype": "text/x-python",
   "name": "python",
   "nbconvert_exporter": "python",
   "pygments_lexer": "ipython3",
   "version": "3.7.4"
  }
 },
 "nbformat": 4,
 "nbformat_minor": 2
}
