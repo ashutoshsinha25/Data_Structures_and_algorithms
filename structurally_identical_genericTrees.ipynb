{
 "cells": [
  {
   "cell_type": "code",
   "execution_count": 1,
   "metadata": {},
   "outputs": [],
   "source": [
    "class treeNode:\n",
    "    def __init__(self, data):\n",
    "        self.data = data\n",
    "        self.children = []\n",
    "\n",
    "def createLevelWiseTree(arr):\n",
    "    root = treeNode(int(arr[0]))\n",
    "    q = [root]\n",
    "    size = len(arr)\n",
    "    i = 1\n",
    "    while i<size:\n",
    "        parent = q.pop(0)\n",
    "        childCount = int(arr[i])\n",
    "        i += 1\n",
    "        for j in range(0,childCount):\n",
    "            temp = treeNode(int(arr[i+j]))\n",
    "            parent.children.append(temp)\n",
    "            q.append(temp)\n",
    "        i += childCount\n",
    "    return root"
   ]
  },
  {
   "cell_type": "code",
   "execution_count": 96,
   "metadata": {},
   "outputs": [],
   "source": [
    "def isIdentical(tree1, tree2):\n",
    "    if tree1.data != tree2.data:\n",
    "        return False\n",
    "    \n",
    "    lenTrees = len(tree1.children)\n",
    "    if lenTrees != len(tree2.children):\n",
    "        return False\n",
    "    \n",
    "    for i in range(lenTrees):\n",
    "        if tree1.children[i].data != tree2.children[i].data:\n",
    "            return False\n",
    "    \n",
    "    ans = True\n",
    "    \n",
    "    for i in range(lenTrees):\n",
    "        subTree = isIdentical(tree1.children[i], tree2.children[i])\n",
    "        if subTree == False:\n",
    "            ans = False\n",
    "    if ans:\n",
    "        return ans\n",
    "    else:\n",
    "        return ans"
   ]
  },
  {
   "cell_type": "code",
   "execution_count": 99,
   "metadata": {},
   "outputs": [
    {
     "name": "stdout",
     "output_type": "stream",
     "text": [
      "False\n"
     ]
    }
   ],
   "source": [
    "arr1 = [1, 3, 2, 3, 4, 1, 5, 1, 6, 3, 7, 8, 9, 0, 0, 0, 0]\n",
    "tree1 = createLevelWiseTree(arr1)\n",
    "arr2 = [1, 3, 2, 3, 4, 1, 5, 1, 6, 2, 7, 8, 0, 0, 0, 0]\n",
    "tree2 = createLevelWiseTree(arr2)\n",
    "\n",
    "\n",
    "print(isIdentical(tree1, tree2))"
   ]
  },
  {
   "cell_type": "code",
   "execution_count": null,
   "metadata": {},
   "outputs": [],
   "source": []
  }
 ],
 "metadata": {
  "kernelspec": {
   "display_name": "Python 3",
   "language": "python",
   "name": "python3"
  },
  "language_info": {
   "codemirror_mode": {
    "name": "ipython",
    "version": 3
   },
   "file_extension": ".py",
   "mimetype": "text/x-python",
   "name": "python",
   "nbconvert_exporter": "python",
   "pygments_lexer": "ipython3",
   "version": "3.7.4"
  }
 },
 "nbformat": 4,
 "nbformat_minor": 2
}
