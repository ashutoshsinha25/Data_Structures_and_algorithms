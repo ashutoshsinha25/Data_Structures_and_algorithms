{
 "cells": [
  {
   "cell_type": "code",
   "execution_count": 30,
   "metadata": {},
   "outputs": [],
   "source": [
    "def permutations(string, output):\n",
    "    if len(string) == 0:\n",
    "        print(output)\n",
    "        return\n",
    "    \n",
    "\n",
    "    for i in range(len(string)):\n",
    "        k = list(string)\n",
    "\n",
    "        k[i], k[0] = k[0], k[i]\n",
    "\n",
    "\n",
    "        m = \"\".join(k)\n",
    "        permutations(m[1:], m[0] + output)"
   ]
  },
  {
   "cell_type": "code",
   "execution_count": 31,
   "metadata": {},
   "outputs": [
    {
     "name": "stdout",
     "output_type": "stream",
     "text": [
      "cba\n",
      "bca\n",
      "cab\n",
      "acb\n",
      "abc\n",
      "bac\n"
     ]
    }
   ],
   "source": [
    "string = input()\n",
    "output = \"\"\n",
    "permutations(string, output)"
   ]
  },
  {
   "cell_type": "code",
   "execution_count": null,
   "metadata": {},
   "outputs": [],
   "source": []
  }
 ],
 "metadata": {
  "kernelspec": {
   "display_name": "Python 3",
   "language": "python",
   "name": "python3"
  },
  "language_info": {
   "codemirror_mode": {
    "name": "ipython",
    "version": 3
   },
   "file_extension": ".py",
   "mimetype": "text/x-python",
   "name": "python",
   "nbconvert_exporter": "python",
   "pygments_lexer": "ipython3",
   "version": "3.7.4"
  }
 },
 "nbformat": 4,
 "nbformat_minor": 2
}
