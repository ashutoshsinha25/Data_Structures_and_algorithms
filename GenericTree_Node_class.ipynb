{
 "cells": [
  {
   "cell_type": "code",
   "execution_count": 1,
   "metadata": {},
   "outputs": [],
   "source": [
    "class TreeNode:\n",
    "    def __init__(self, data):\n",
    "        self.data = data\n",
    "        self.children = []"
   ]
  },
  {
   "cell_type": "code",
   "execution_count": 7,
   "metadata": {},
   "outputs": [],
   "source": [
    "n1 = TreeNode(5)\n",
    "n2 = TreeNode(2)\n",
    "n3 = TreeNode(9)\n",
    "n4 = TreeNode(8)\n",
    "n5 = TreeNode(7)\n",
    "n6 = TreeNode(15)\n",
    "n7 = TreeNode(1)\n",
    "\n",
    "\n",
    "n1.children.append(n2)\n",
    "n1.children.append(n3)\n",
    "n1.children.append(n4)\n",
    "n1.children.append(n5)\n",
    "\n",
    "n3.children.append(n6)\n",
    "n3.children.append(n7)"
   ]
  },
  {
   "cell_type": "code",
   "execution_count": 17,
   "metadata": {},
   "outputs": [
    {
     "name": "stdout",
     "output_type": "stream",
     "text": [
      "5\n",
      "2\n",
      "9\n",
      "15\n",
      "1\n",
      "8\n",
      "7\n"
     ]
    }
   ],
   "source": [
    "def printTree(root):\n",
    "    \n",
    "    #base case is leaf\n",
    "    \n",
    "    #edge case\n",
    "    if root != None:        \n",
    "        print(root.data)\n",
    "        for child in root.children:\n",
    "            printTree(child)\n",
    "printTree(n1)"
   ]
  },
  {
   "cell_type": "code",
   "execution_count": 21,
   "metadata": {},
   "outputs": [
    {
     "name": "stdout",
     "output_type": "stream",
     "text": [
      "5 :2 ,9 ,8 ,7 ,\n",
      "2 :\n",
      "9 :15 ,1 ,\n",
      "15 :\n",
      "1 :\n",
      "8 :\n",
      "7 :\n"
     ]
    }
   ],
   "source": [
    "def printTreeDetailed(root):\n",
    "    \n",
    "    if root != None:\n",
    "        print(root.data, ':', end = \"\")\n",
    "        for child in root.children:\n",
    "            print(child.data, ',', end = \"\")\n",
    "        print()\n",
    "            \n",
    "        for child in root.children:\n",
    "            printTreeDetailed(child)\n",
    "            \n",
    "printTreeDetailed(n1)"
   ]
  },
  {
   "cell_type": "code",
   "execution_count": null,
   "metadata": {},
   "outputs": [],
   "source": []
  }
 ],
 "metadata": {
  "kernelspec": {
   "display_name": "Python 3",
   "language": "python",
   "name": "python3"
  },
  "language_info": {
   "codemirror_mode": {
    "name": "ipython",
    "version": 3
   },
   "file_extension": ".py",
   "mimetype": "text/x-python",
   "name": "python",
   "nbconvert_exporter": "python",
   "pygments_lexer": "ipython3",
   "version": "3.7.4"
  }
 },
 "nbformat": 4,
 "nbformat_minor": 2
}
