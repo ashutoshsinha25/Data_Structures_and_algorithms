{
 "cells": [
  {
   "cell_type": "code",
   "execution_count": 12,
   "metadata": {},
   "outputs": [],
   "source": [
    "class Graph:\n",
    "    def __init__(self, nVerticies):\n",
    "        self.nVerticies = nVerticies\n",
    "        self.adjMatrix = [ [0 for i in range(nVerticies)] for j in range(nVerticies)]\n",
    "        \n",
    "        \n",
    "    def addEdge(self, v1, v2):\n",
    "        self.adjMatrix[v1][v2] = 1\n",
    "        self.adjMatrix[v2][v1] = 1\n",
    "        \n",
    "    def removeEdge(self, v1, v2):\n",
    "        if self.containsEdge(v1, v2) is False:\n",
    "            return\n",
    "        self.adjMatrix[v1][v2] = 0\n",
    "        self.adjMatrix[v2][v1] = 0\n",
    "        \n",
    "    \n",
    "    def containsEdge(self, v1, v2):\n",
    "        return True if self.adjMatrix[v1][v2] > 0 else False\n",
    "    \n",
    "    \n",
    "    def __str__(self):\n",
    "        return str(self.adjMatrix)\n",
    "    \n",
    "    \n",
    "    def __ccHelper(self, sv, visited, m):\n",
    "        \n",
    "        m.append(sv)\n",
    "        visited[sv] = True\n",
    "        for i in range(self.nVerticies):\n",
    "            if self.adjMatrix[sv][i] > 0 and visited[i] is False:\n",
    "                self.__ccHelper(i, visited, m)\n",
    "                \n",
    "        return m\n",
    "    def connectedComponents(self):\n",
    "        visited = [False for i in range(self.nVerticies)]\n",
    "        for i in range(self.nVerticies):\n",
    "            if visited[i] is False:\n",
    "                com = self.__ccHelper(i, visited, [])\n",
    "                com.sort()\n",
    "                for x in com:\n",
    "                    print(x,end=\" \")\n",
    "                print()"
   ]
  },
  {
   "cell_type": "code",
   "execution_count": 14,
   "metadata": {},
   "outputs": [
    {
     "name": "stdout",
     "output_type": "stream",
     "text": [
      "4 3\n",
      "0 1\n",
      "1 3\n",
      "0 3\n",
      "0 1 3 \n",
      "2 \n"
     ]
    }
   ],
   "source": [
    "V, E = [int(i) for i in input().split()]\n",
    "g = Graph(V)\n",
    "for i in range(E):\n",
    "    v1, v2 = [int(i) for i in input().split()]\n",
    "    g.addEdge(v1, v2)\n",
    "    \n",
    "g.connectedComponents()"
   ]
  },
  {
   "cell_type": "code",
   "execution_count": null,
   "metadata": {},
   "outputs": [],
   "source": []
  }
 ],
 "metadata": {
  "kernelspec": {
   "display_name": "Python 3",
   "language": "python",
   "name": "python3"
  },
  "language_info": {
   "codemirror_mode": {
    "name": "ipython",
    "version": 3
   },
   "file_extension": ".py",
   "mimetype": "text/x-python",
   "name": "python",
   "nbconvert_exporter": "python",
   "pygments_lexer": "ipython3",
   "version": "3.7.4"
  }
 },
 "nbformat": 4,
 "nbformat_minor": 2
}
