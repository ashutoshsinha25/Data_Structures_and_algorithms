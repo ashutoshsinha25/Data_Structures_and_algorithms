{
 "cells": [
  {
   "cell_type": "code",
   "execution_count": 4,
   "metadata": {},
   "outputs": [],
   "source": [
    "class BinaryTreeNode:\n",
    "    def __init__(self, data):\n",
    "        self.data = data\n",
    "        self.left = None\n",
    "        self.right = None"
   ]
  },
  {
   "cell_type": "code",
   "execution_count": 5,
   "metadata": {},
   "outputs": [],
   "source": [
    "def printTreeDetailed(root):\n",
    "    if root == None:\n",
    "        return\n",
    "    \n",
    "    \n",
    "    print(root.data, end = ': ')\n",
    "    \n",
    "    if root.left != None:\n",
    "        print(\"L:\", root.left.data, end = ':')\n",
    "        \n",
    "        \n",
    "    if root.right != None:\n",
    "        print(\"R:\", root.right.data, end = \"\")\n",
    "    \n",
    "    print()\n",
    "    printTreeDetailed(root.left)\n",
    "    printTreeDetailed(root.right)"
   ]
  },
  {
   "cell_type": "code",
   "execution_count": 6,
   "metadata": {},
   "outputs": [],
   "source": [
    "import queue\n",
    "def takeLevelWiseTreeInput():\n",
    "    \n",
    "    q = queue.Queue()\n",
    "    print(\"Enter Root\")\n",
    "    rootData = int(input())\n",
    "    \n",
    "    if rootData == -1:\n",
    "        return None\n",
    "    \n",
    "    root = BinaryTreeNode(rootData)\n",
    "    q.put(root)\n",
    "    \n",
    "    while not(q.empty()):\n",
    "        \n",
    "        currentNode = q.get()\n",
    "        print(\"Enter the left child of: \",currentNode.data)\n",
    "        leftChildData = int(input())\n",
    "        \n",
    "        if leftChildData != -1:\n",
    "            leftChild = BinaryTreeNode(leftChildData)\n",
    "            currentNode.left = leftChild\n",
    "            q.put(leftChild)\n",
    "            \n",
    "            \n",
    "        print(\"Enter the right child of: \",currentNode.data)\n",
    "        rightChildData = int(input())\n",
    "        \n",
    "        if rightChildData != -1:\n",
    "            rightChild = BinaryTreeNode(rightChildData)\n",
    "            currentNode.right = rightChild\n",
    "            q.put(rightChild)\n",
    "            \n",
    "    return root"
   ]
  },
  {
   "cell_type": "code",
   "execution_count": 9,
   "metadata": {},
   "outputs": [
    {
     "name": "stdout",
     "output_type": "stream",
     "text": [
      "Enter Root\n",
      "1\n",
      "Enter the left child of:  1\n",
      "2\n",
      "Enter the right child of:  1\n",
      "3\n",
      "Enter the left child of:  2\n",
      "4\n",
      "Enter the right child of:  2\n",
      "5\n",
      "Enter the left child of:  3\n",
      "6\n",
      "Enter the right child of:  3\n",
      "7\n",
      "Enter the left child of:  4\n",
      "-1\n",
      "Enter the right child of:  4\n",
      "-1\n",
      "Enter the left child of:  5\n",
      "8\n",
      "Enter the right child of:  5\n",
      "-1\n",
      "Enter the left child of:  6\n",
      "-1\n",
      "Enter the right child of:  6\n",
      "-1\n",
      "Enter the left child of:  7\n",
      "-1\n",
      "Enter the right child of:  7\n",
      "-1\n",
      "Enter the left child of:  8\n",
      "-1\n",
      "Enter the right child of:  8\n",
      "-1\n",
      "1: L: 2:R: 3\n",
      "2: L: 4:R: 5\n",
      "4: \n",
      "5: L: 8:\n",
      "8: \n",
      "3: L: 6:R: 7\n",
      "6: \n",
      "7: \n"
     ]
    }
   ],
   "source": [
    "root = takeLevelWiseTreeInput()\n",
    "printTreeDetailed(root)"
   ]
  },
  {
   "cell_type": "code",
   "execution_count": null,
   "metadata": {},
   "outputs": [],
   "source": []
  }
 ],
 "metadata": {
  "kernelspec": {
   "display_name": "Python 3",
   "language": "python",
   "name": "python3"
  },
  "language_info": {
   "codemirror_mode": {
    "name": "ipython",
    "version": 3
   },
   "file_extension": ".py",
   "mimetype": "text/x-python",
   "name": "python",
   "nbconvert_exporter": "python",
   "pygments_lexer": "ipython3",
   "version": "3.7.4"
  }
 },
 "nbformat": 4,
 "nbformat_minor": 2
}
