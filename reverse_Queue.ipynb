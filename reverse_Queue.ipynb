{
 "cells": [
  {
   "cell_type": "code",
   "execution_count": 19,
   "metadata": {},
   "outputs": [
    {
     "name": "stdout",
     "output_type": "stream",
     "text": [
      "4 1 2 3 4\n",
      "4 1 2 3 "
     ]
    }
   ],
   "source": [
    "import queue\n",
    "def reverse(q1):\n",
    "    \n",
    "    if q1.qsize() <= 1:\n",
    "        return q1\n",
    "    \n",
    "    else:\n",
    "        count = q1.qsize()\n",
    "        while count != 1:\n",
    "            q1.put(q1.get())\n",
    "            count -= 1\n",
    "            \n",
    "        return q1\n",
    "    \n",
    "li = [int(ele) for ele in (input().split()[1:])]\n",
    "q1 = queue.Queue()\n",
    "for ele in li:\n",
    "    q1.put(ele)\n",
    "reverse(q1)\n",
    "while(q1.empty() is False):\n",
    "    print(q1.get(),end= ' ')"
   ]
  },
  {
   "cell_type": "code",
   "execution_count": 24,
   "metadata": {},
   "outputs": [],
   "source": [
    "import queue\n",
    "def reverseRec(x):\n",
    "    \n",
    "    if x.qsize() <= 1:\n",
    "        return x\n",
    "    \n",
    "    \n",
    "    curr_ele = x.get()\n",
    "    k = reverseRec(x)\n",
    "    k.put(curr_ele)\n",
    "    return k\n",
    "\n",
    "from sys import setrecursionlimit\n",
    "setrecursionlimit(11000)\n",
    "li = [int(ele) for ele in (input().split()[1:])]\n",
    "q1 = queue.Queue()\n",
    "for ele in li:\n",
    "    q1.put(ele)\n",
    "reverseRec(q1)\n",
    "while(q1.empty() is False):\n",
    "    print(q1.get(),end= ' ')"
   ]
  }
 ],
 "metadata": {
  "kernelspec": {
   "display_name": "Python 3",
   "language": "python",
   "name": "python3"
  },
  "language_info": {
   "codemirror_mode": {
    "name": "ipython",
    "version": 3
   },
   "file_extension": ".py",
   "mimetype": "text/x-python",
   "name": "python",
   "nbconvert_exporter": "python",
   "pygments_lexer": "ipython3",
   "version": "3.7.4"
  }
 },
 "nbformat": 4,
 "nbformat_minor": 2
}
