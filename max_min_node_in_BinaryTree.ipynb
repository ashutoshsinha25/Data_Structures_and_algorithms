{
 "cells": [
  {
   "cell_type": "code",
   "execution_count": 1,
   "metadata": {},
   "outputs": [],
   "source": [
    "import queue\n",
    "class BinaryTreeNode:\n",
    "    def __init__(self, data):\n",
    "        self.data = data\n",
    "        self.left = None\n",
    "        self.right = None\n",
    "\n",
    "\n",
    "def buildLevelTree(levelorder):\n",
    "    index = 0\n",
    "    length = len(levelorder)\n",
    "    if length<=0 or levelorder[0]==-1:\n",
    "        return None\n",
    "    root = BinaryTreeNode(levelorder[index])\n",
    "    index += 1\n",
    "    q = queue.Queue()\n",
    "    q.put(root)\n",
    "    while not q.empty():\n",
    "        currentNode = q.get()\n",
    "        leftChild = levelorder[index]\n",
    "        index += 1\n",
    "        if leftChild != -1:\n",
    "            leftNode = BinaryTreeNode(leftChild)\n",
    "            currentNode.left =leftNode\n",
    "            q.put(leftNode)\n",
    "        rightChild = levelorder[index]\n",
    "        index += 1\n",
    "        if rightChild != -1:\n",
    "            rightNode = BinaryTreeNode(rightChild)\n",
    "            currentNode.right =rightNode\n",
    "            q.put(rightNode)\n",
    "    return root"
   ]
  },
  {
   "cell_type": "code",
   "execution_count": 84,
   "metadata": {},
   "outputs": [],
   "source": [
    "INT_MIN = -2147483648\n",
    "INT_MAX = 2147483647\n",
    "\n",
    "def minMax(root):\n",
    "    \n",
    "    if root == None:\n",
    "        return [INT_MIN, INT_MAX]\n",
    "    \n",
    "    left =  minMax(root.left)\n",
    "    right = minMax(root.right)\n",
    "    \n",
    "    if left[0] == INT_MIN and left[1] == INT_MAX and right[0] == INT_MIN  and right[1] == INT_MAX:\n",
    "        return root.data, root.data\n",
    "    \n",
    "    elif left[0] != INT_MIN and left[1] != INT_MAX and right[0] == INT_MIN  and right[1] == INT_MAX:\n",
    "        \n",
    "        mini = min(root.data, left[0])\n",
    "        maxi = max(root.data, left[1])\n",
    "        return mini, maxi\n",
    "        \n",
    "        \n",
    "    elif left[0] == INT_MIN and left[1] == INT_MAX and right[0] != INT_MIN  and right[1] != INT_MAX: \n",
    "        mini = min(root.data, right[0])\n",
    "        maxi = max(root.data, right[1])\n",
    "        \n",
    "        return mini, maxi\n",
    "    \n",
    "    else:\n",
    "        mini = min(root.data, left[0], right[0])\n",
    "        maxi = max(root.data, left[1], right[1])\n",
    "        return mini, maxi"
   ]
  },
  {
   "cell_type": "code",
   "execution_count": 85,
   "metadata": {
    "scrolled": false
   },
   "outputs": [
    {
     "name": "stdout",
     "output_type": "stream",
     "text": [
      "24 -3\n"
     ]
    }
   ],
   "source": [
    "levelOrder = [1, 0, -3, 2, -1, 8, 24, 4, -2, -1, -1, -1, -1, -1, -1, -1, -1,]\n",
    "root = buildLevelTree(levelOrder)\n",
    "minimum, maximum = minMax(root)\n",
    "print(maximum, minimum)"
   ]
  },
  {
   "cell_type": "code",
   "execution_count": null,
   "metadata": {},
   "outputs": [],
   "source": []
  },
  {
   "cell_type": "code",
   "execution_count": null,
   "metadata": {},
   "outputs": [],
   "source": []
  }
 ],
 "metadata": {
  "kernelspec": {
   "display_name": "Python 3",
   "language": "python",
   "name": "python3"
  },
  "language_info": {
   "codemirror_mode": {
    "name": "ipython",
    "version": 3
   },
   "file_extension": ".py",
   "mimetype": "text/x-python",
   "name": "python",
   "nbconvert_exporter": "python",
   "pygments_lexer": "ipython3",
   "version": "3.7.4"
  }
 },
 "nbformat": 4,
 "nbformat_minor": 2
}
