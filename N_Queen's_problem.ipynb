{
 "cells": [
  {
   "cell_type": "code",
   "execution_count": 18,
   "metadata": {},
   "outputs": [],
   "source": [
    "def isSafe(row, cols, board, n):\n",
    "    \n",
    "    #vertical positions\n",
    "    i = row - 1\n",
    "    while i >= 0:\n",
    "        if board[i][cols] == 1:\n",
    "            return False\n",
    "        i -= 1\n",
    "        \n",
    "    i = row - 1   \n",
    "    j = cols - 1\n",
    "    \n",
    "    while i >= 0 and j >= 0:\n",
    "        if board[i][j] == 1:\n",
    "            return False        \n",
    "        i -= 1\n",
    "        j -= 1\n",
    "        \n",
    "        \n",
    "    i = row - 1\n",
    "    j = cols + 1\n",
    "    \n",
    "    while i >= 0 and j < n:\n",
    "        if board[i][j] == 1:\n",
    "            return False        \n",
    "        i -= 1\n",
    "        j += 1\n",
    "        \n",
    "    return True\n",
    "\n",
    "def printPathsHelper(row, n, board):\n",
    "    \n",
    "    if row == n:\n",
    "        for i in range(n):\n",
    "            for j in range(n):\n",
    "                print(board[i][j], end = \" \")\n",
    "            print(\"-\", end = \" \")\n",
    "        print()\n",
    "        return  \n",
    "     \n",
    "    for cols in range(n):\n",
    "        if isSafe(row, cols, board, n) is True:\n",
    "            board[row][cols] = 1\n",
    "            printPathsHelper(row+1, n, board)\n",
    "            board[row][cols] = 0\n",
    "    return"
   ]
  },
  {
   "cell_type": "code",
   "execution_count": 19,
   "metadata": {},
   "outputs": [
    {
     "name": "stdout",
     "output_type": "stream",
     "text": [
      "4\n",
      "0 1 0 0 - 0 0 0 1 - 1 0 0 0 - 0 0 1 0 - \n",
      "0 0 1 0 - 1 0 0 0 - 0 0 0 1 - 0 1 0 0 - \n"
     ]
    }
   ],
   "source": [
    "def printPaths(n):\n",
    "    board = [[0 for i in range(n)] for i in range(n)]\n",
    "    printPathsHelper(0, n, board)\n",
    "    \n",
    "    \n",
    "n = int(input())\n",
    "printPaths(n)"
   ]
  },
  {
   "cell_type": "code",
   "execution_count": null,
   "metadata": {},
   "outputs": [],
   "source": []
  }
 ],
 "metadata": {
  "kernelspec": {
   "display_name": "Python 3",
   "language": "python",
   "name": "python3"
  },
  "language_info": {
   "codemirror_mode": {
    "name": "ipython",
    "version": 3
   },
   "file_extension": ".py",
   "mimetype": "text/x-python",
   "name": "python",
   "nbconvert_exporter": "python",
   "pygments_lexer": "ipython3",
   "version": "3.7.4"
  }
 },
 "nbformat": 4,
 "nbformat_minor": 2
}
