{
 "cells": [
  {
   "cell_type": "code",
   "execution_count": 87,
   "metadata": {},
   "outputs": [
    {
     "name": "stdout",
     "output_type": "stream",
     "text": [
      "2\n",
      "True\n",
      "0\n"
     ]
    }
   ],
   "source": [
    "class Node:\n",
    "    def __init__(self, data):\n",
    "        self.data = data\n",
    "        self.next = None\n",
    "\n",
    "\n",
    "\n",
    "class QueueUsingLL:\n",
    "    def __init__(self):\n",
    "        self.__head = None\n",
    "        self.__tail = None\n",
    "        self.__count = 0\n",
    "        \n",
    "        \n",
    "    def enqueue(self, item):\n",
    "        \n",
    "        newNode = Node(item)\n",
    "        if self.__head == None:\n",
    "            self.__head = newNode\n",
    "            \n",
    "        else:\n",
    "            #changing only tail\n",
    "            self.__tail.next = newNode\n",
    "        \n",
    "        self.__tail = newNode\n",
    "        self.__count += 1\n",
    "\n",
    "            \n",
    "            \n",
    "    def dequeue(self):\n",
    "        if self.__head is not None:\n",
    "            k = self.__head\n",
    "            #changing only head\n",
    "            self.__head = self.__head.next\n",
    "            self.__count -= 1\n",
    "            return k.data\n",
    "        \n",
    "        else:\n",
    "            return\n",
    "        \n",
    "    def getSize(self):\n",
    "        return self.__count\n",
    "    \n",
    "    \n",
    "    def isEmpty(self):\n",
    "        return self.__count == 0\n",
    "    \n",
    "    \n",
    "    def front(self):\n",
    "        if self.__head is not None:\n",
    "            return self.__head.data\n",
    "        else:\n",
    "            return\n",
    "        \n",
    "        \n",
    "q = QueueUsingLL()\n",
    "q.enqueue(2)\n",
    "print(q.dequeue())\n",
    "print(q.isEmpty())\n",
    "print(q.getize())"
   ]
  },
  {
   "cell_type": "code",
   "execution_count": null,
   "metadata": {},
   "outputs": [],
   "source": []
  }
 ],
 "metadata": {
  "kernelspec": {
   "display_name": "Python 3",
   "language": "python",
   "name": "python3"
  },
  "language_info": {
   "codemirror_mode": {
    "name": "ipython",
    "version": 3
   },
   "file_extension": ".py",
   "mimetype": "text/x-python",
   "name": "python",
   "nbconvert_exporter": "python",
   "pygments_lexer": "ipython3",
   "version": "3.7.4"
  }
 },
 "nbformat": 4,
 "nbformat_minor": 2
}
