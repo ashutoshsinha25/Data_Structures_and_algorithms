{
 "cells": [
  {
   "cell_type": "code",
   "execution_count": 9,
   "metadata": {},
   "outputs": [],
   "source": [
    "def checkRedundant(expr):\n",
    "    s = []\n",
    "    for i in expr:\n",
    "        redun = False\n",
    "        \n",
    "        if i not in \"])}\" and i != \" \":\n",
    "            s.append(i)\n",
    "        elif i in \"])}\":\n",
    "            count = 0\n",
    "            \n",
    "            stop = False\n",
    "            while not stop:\n",
    "                k = s.pop()\n",
    "                if k in \"[({\":\n",
    "                    stop = True\n",
    "                else:\n",
    "                    count += 1\n",
    "                    \n",
    "            if count == 0:\n",
    "                redun = True\n",
    "                break\n",
    "    if redun:\n",
    "        print(\"true\")\n",
    "    else:\n",
    "        print(\"false\")"
   ]
  },
  {
   "cell_type": "code",
   "execution_count": 11,
   "metadata": {},
   "outputs": [
    {
     "name": "stdout",
     "output_type": "stream",
     "text": [
      "(a+b) \n",
      "false\n"
     ]
    }
   ],
   "source": [
    "expr = input()\n",
    "checkRedundant(expr)"
   ]
  },
  {
   "cell_type": "code",
   "execution_count": null,
   "metadata": {},
   "outputs": [],
   "source": []
  }
 ],
 "metadata": {
  "kernelspec": {
   "display_name": "Python 3",
   "language": "python",
   "name": "python3"
  },
  "language_info": {
   "codemirror_mode": {
    "name": "ipython",
    "version": 3
   },
   "file_extension": ".py",
   "mimetype": "text/x-python",
   "name": "python",
   "nbconvert_exporter": "python",
   "pygments_lexer": "ipython3",
   "version": "3.7.4"
  }
 },
 "nbformat": 4,
 "nbformat_minor": 2
}
