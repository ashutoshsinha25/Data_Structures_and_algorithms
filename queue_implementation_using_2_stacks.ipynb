{
 "cells": [
  {
   "cell_type": "code",
   "execution_count": 48,
   "metadata": {},
   "outputs": [],
   "source": [
    "#approach 1\n",
    "#dequeue ---> O(n)\n",
    "\n",
    "class QueueUsing2Stacks:\n",
    "    def __init__(self):\n",
    "        self.__stack1 = []\n",
    "        self.__stack2 = []\n",
    "        self.__count = 0\n",
    "        \n",
    "    def enqueue(self, item):\n",
    "        self.__stack1.append(item)\n",
    "        self.__count += 1\n",
    "        \n",
    "        \n",
    "    def dequeue(self):\n",
    "        if len(self.__stack1) > 0:\n",
    "            while len(self.__stack1) != 1:\n",
    "                self.__stack2.append(self.__stack1.pop())\n",
    "                \n",
    "            k = self.__stack1.pop()\n",
    "            self.__count -= 1\n",
    "            \n",
    "            while len(self.__stack2) != 0:\n",
    "                self.__stack1.append(self.__stack2.pop())\n",
    "                \n",
    "                \n",
    "            return k\n",
    "        \n",
    "        \n",
    "    def size(self):\n",
    "        return self.__count\n",
    "    \n",
    "    \n",
    "    def isEmpty(self):\n",
    "        return self.__count == 0\n",
    "    \n",
    "    \n",
    "    def front(self):\n",
    "        if len(self.__stack1) > 0:\n",
    "            \n",
    "            while len(self.__stack1) != 1:\n",
    "                self.__stack2.append(self.__stack1.pop())\n",
    "                \n",
    "                \n",
    "            k = self.__stack1[0]\n",
    "            \n",
    "            while len(self.__stack2) != 0:\n",
    "                self.__stack1.append(self.__stack2.pop())\n",
    "                \n",
    "            return k"
   ]
  },
  {
   "cell_type": "code",
   "execution_count": 49,
   "metadata": {},
   "outputs": [],
   "source": [
    "s = QueueUsing2Stacks()"
   ]
  },
  {
   "cell_type": "code",
   "execution_count": 57,
   "metadata": {},
   "outputs": [
    {
     "name": "stdout",
     "output_type": "stream",
     "text": [
      "2\n",
      "13\n",
      "False\n",
      "3\n"
     ]
    }
   ],
   "source": [
    "s.enqueue(1)\n",
    "s.enqueue(2)\n",
    "s.enqueue(3)\n",
    "s.enqueue(4)\n",
    "s.enqueue(5)\n",
    "\n",
    "print(s.dequeue())\n",
    "print(s.size())\n",
    "print(s.isEmpty())\n",
    "print(s.front())"
   ]
  },
  {
   "cell_type": "code",
   "execution_count": 101,
   "metadata": {},
   "outputs": [],
   "source": [
    "#approach 2\n",
    "#enqueue ---> O(n)\n",
    "\n",
    "class QueueUsing2Stacks2:\n",
    "    def __init__(self):\n",
    "        self.__stack1 = []\n",
    "        self.__stack2 = []\n",
    "        \n",
    "    def enqueue(self, item):\n",
    "        if len(self.__stack1) == 0:\n",
    "            self.__stack1.append(item)\n",
    "            \n",
    "        else:\n",
    "            while len(self.__stack1) != 0:\n",
    "                self.__stack2.append(self.__stack1.pop())\n",
    "                \n",
    "            self.__stack1.append(item)\n",
    "            \n",
    "            while len(self.__stack2) != 0:\n",
    "                self.__stack1.append(self.__stack2.pop())\n",
    "                \n",
    "                \n",
    "    def dequeue(self):\n",
    "        if len(self.__stack1) > 0:\n",
    "            return self.__stack1.pop()\n",
    "        \n",
    "        \n",
    "    def size(self):\n",
    "        return len(self.__stack1)\n",
    "    \n",
    "    def isEmpty(self):\n",
    "        return len(self.__stack1) == 0\n",
    "    \n",
    "    \n",
    "    def front(self):\n",
    "        if len(self.__stack1) != 0:\n",
    "            return self.__stack1[-1]"
   ]
  },
  {
   "cell_type": "code",
   "execution_count": 102,
   "metadata": {},
   "outputs": [
    {
     "name": "stdout",
     "output_type": "stream",
     "text": [
      "1\n",
      "4\n",
      "False\n",
      "2\n"
     ]
    }
   ],
   "source": [
    "k = QueueUsing2Stacks2()\n",
    "k.enqueue(1)\n",
    "k.enqueue(2)\n",
    "k.enqueue(3)\n",
    "k.enqueue(4)\n",
    "k.enqueue(5)\n",
    "\n",
    "print(k.dequeue())\n",
    "print(k.size())\n",
    "print(k.isEmpty())\n",
    "print(k.front())"
   ]
  },
  {
   "cell_type": "code",
   "execution_count": null,
   "metadata": {},
   "outputs": [],
   "source": []
  },
  {
   "cell_type": "code",
   "execution_count": null,
   "metadata": {},
   "outputs": [],
   "source": []
  }
 ],
 "metadata": {
  "kernelspec": {
   "display_name": "Python 3",
   "language": "python",
   "name": "python3"
  },
  "language_info": {
   "codemirror_mode": {
    "name": "ipython",
    "version": 3
   },
   "file_extension": ".py",
   "mimetype": "text/x-python",
   "name": "python",
   "nbconvert_exporter": "python",
   "pygments_lexer": "ipython3",
   "version": "3.7.4"
  }
 },
 "nbformat": 4,
 "nbformat_minor": 2
}
