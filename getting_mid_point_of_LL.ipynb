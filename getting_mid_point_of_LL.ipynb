{
 "cells": [
  {
   "cell_type": "code",
   "execution_count": 57,
   "metadata": {},
   "outputs": [
    {
     "name": "stdout",
     "output_type": "stream",
     "text": [
      "3\n"
     ]
    }
   ],
   "source": [
    "class Node:\n",
    "    def __init__(self, data):\n",
    "        self.data = data\n",
    "        self.next = None\n",
    "    \n",
    "\n",
    "def ll(arr):\n",
    "    if len(arr)==0:\n",
    "        return None\n",
    "    head = Node(arr[0])\n",
    "    last = head\n",
    "    for data in arr[1:]:\n",
    "        last.next = Node(data)\n",
    "        last = last.next\n",
    "    return head\n",
    "\n",
    "def printll(head):\n",
    "    while head:\n",
    "        print(head.data, end=' ')\n",
    "        head = head.next\n",
    "    print()\n",
    "\n",
    "    \n",
    "#2 PASS APPROACH\n",
    "def midPoint1(head):\n",
    "    \n",
    "    curr = head\n",
    "    i = 1\n",
    "    while curr.next is not None:\n",
    "        curr = curr.next\n",
    "        i += 1\n",
    "        \n",
    "    k = (i - 1)//2\n",
    "    curr = head\n",
    "    while k > 0:\n",
    "        curr = curr.next\n",
    "        k -= 1\n",
    "        \n",
    "    return curr\n",
    "\n",
    "\n",
    "# ONE PASS APPROACH\n",
    "def midPoint2(head):\n",
    "    \n",
    "    slow = head\n",
    "    fast = head\n",
    "    \n",
    "    while fast.next is not None and fast.next.next is not None:\n",
    "        \n",
    "        #goes 1x\n",
    "        slow = slow.next\n",
    "        \n",
    "        #goes 2x\n",
    "        fast = fast.next.next\n",
    "        \n",
    "    return slow\n",
    "        \n",
    "    \n",
    "    \n",
    "arr = [1, 2, 3, 4, 5, 6, -1]\n",
    "head = ll(arr[:-1])\n",
    "mid = midPoint1(head)\n",
    "print(mid.data)"
   ]
  },
  {
   "cell_type": "code",
   "execution_count": null,
   "metadata": {},
   "outputs": [],
   "source": []
  }
 ],
 "metadata": {
  "kernelspec": {
   "display_name": "Python 3",
   "language": "python",
   "name": "python3"
  },
  "language_info": {
   "codemirror_mode": {
    "name": "ipython",
    "version": 3
   },
   "file_extension": ".py",
   "mimetype": "text/x-python",
   "name": "python",
   "nbconvert_exporter": "python",
   "pygments_lexer": "ipython3",
   "version": "3.7.4"
  }
 },
 "nbformat": 4,
 "nbformat_minor": 2
}
