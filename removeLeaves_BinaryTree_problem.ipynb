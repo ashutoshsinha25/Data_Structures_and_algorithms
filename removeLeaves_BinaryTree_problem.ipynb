{
 "cells": [
  {
   "cell_type": "code",
   "execution_count": 8,
   "metadata": {},
   "outputs": [],
   "source": [
    "class BinaryTreeNode:\n",
    "    def __init__(self, data):\n",
    "        self.data = data\n",
    "        self.left = None\n",
    "        self.right = None"
   ]
  },
  {
   "cell_type": "code",
   "execution_count": 9,
   "metadata": {},
   "outputs": [],
   "source": [
    "def printTreeDetailed(root):\n",
    "    if root == None:\n",
    "        return\n",
    "    \n",
    "    \n",
    "    print(root.data, end = ': ')\n",
    "    \n",
    "    if root.left != None:\n",
    "        print(\"L:\", root.left.data, end = ':')\n",
    "        \n",
    "        \n",
    "    if root.right != None:\n",
    "        print(\"R:\", root.right.data, end = \"\")\n",
    "    \n",
    "    print()\n",
    "    printTreeDetailed(root.left)\n",
    "    printTreeDetailed(root.right)"
   ]
  },
  {
   "cell_type": "code",
   "execution_count": 10,
   "metadata": {},
   "outputs": [],
   "source": [
    "def treeInput():\n",
    "    rootData = int(input())\n",
    "    \n",
    "    if rootData == -1:\n",
    "        return None\n",
    "    \n",
    "    \n",
    "    root = BinaryTreeNode(rootData)\n",
    "    leftTree = treeInput()\n",
    "    rightTree = treeInput()\n",
    "    root.left = leftTree\n",
    "    root.right = rightTree\n",
    "    return root"
   ]
  },
  {
   "cell_type": "code",
   "execution_count": 16,
   "metadata": {},
   "outputs": [],
   "source": [
    "def removeLeaves(root):\n",
    "    if root == None:\n",
    "        return\n",
    "    \n",
    "    elif root.left == None and root.right == None:\n",
    "        return None\n",
    "    \n",
    "    root.left = removeLeaves(root.left)\n",
    "    root.right = removeLeaves(root.right)\n",
    "    return root"
   ]
  },
  {
   "cell_type": "code",
   "execution_count": 23,
   "metadata": {},
   "outputs": [
    {
     "name": "stdout",
     "output_type": "stream",
     "text": [
      "1\n",
      "2\n",
      "4\n",
      "-1\n",
      "-1\n",
      "5\n",
      "8\n",
      "-1\n",
      "-1\n",
      "9\n",
      "-1\n",
      "-1\n",
      "3\n",
      "6\n",
      "-1\n",
      "-1\n",
      "7\n",
      "-1\n",
      "-1\n",
      "1: L: 2:R: 3\n",
      "2: L: 4:R: 5\n",
      "4: \n",
      "5: L: 8:R: 9\n",
      "8: \n",
      "9: \n",
      "3: L: 6:R: 7\n",
      "6: \n",
      "7: \n",
      "\n",
      "\n",
      "tree:\n",
      "1: L: 2:R: 3\n",
      "2: R: 5\n",
      "5: \n",
      "3: \n"
     ]
    }
   ],
   "source": [
    "root = treeInput()\n",
    "printTreeDetailed(root)\n",
    "print()\n",
    "root = removeLeaves(root)\n",
    "\n",
    "print()\n",
    "print(\"tree:\")\n",
    "printTreeDetailed(root)"
   ]
  },
  {
   "cell_type": "code",
   "execution_count": null,
   "metadata": {},
   "outputs": [],
   "source": []
  }
 ],
 "metadata": {
  "kernelspec": {
   "display_name": "Python 3",
   "language": "python",
   "name": "python3"
  },
  "language_info": {
   "codemirror_mode": {
    "name": "ipython",
    "version": 3
   },
   "file_extension": ".py",
   "mimetype": "text/x-python",
   "name": "python",
   "nbconvert_exporter": "python",
   "pygments_lexer": "ipython3",
   "version": "3.7.4"
  }
 },
 "nbformat": 4,
 "nbformat_minor": 2
}
