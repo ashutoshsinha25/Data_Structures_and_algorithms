{
 "cells": [
  {
   "cell_type": "code",
   "execution_count": 34,
   "metadata": {},
   "outputs": [],
   "source": [
    "import queue\n",
    "class BinaryTreeNode:\n",
    "    def __init__(self, data):\n",
    "        self.data = data\n",
    "        self.left = None\n",
    "        self.right = None"
   ]
  },
  {
   "cell_type": "code",
   "execution_count": 35,
   "metadata": {},
   "outputs": [],
   "source": [
    "def buildLevelTree(levelorder):\n",
    "    index = 0\n",
    "    length = len(levelorder)\n",
    "    if length<=0 or levelorder[0]==-1:\n",
    "        return None\n",
    "    root = BinaryTreeNode(levelorder[index])\n",
    "    index += 1\n",
    "    q = queue.Queue()\n",
    "    q.put(root)\n",
    "    while not q.empty():\n",
    "        currentNode = q.get()\n",
    "        leftChild = levelorder[index]\n",
    "        index += 1\n",
    "        if leftChild != -1:\n",
    "            leftNode = BinaryTreeNode(leftChild)\n",
    "            currentNode.left =leftNode\n",
    "            q.put(leftNode)\n",
    "        rightChild = levelorder[index]\n",
    "        index += 1\n",
    "        if rightChild != -1:\n",
    "            rightNode = BinaryTreeNode(rightChild)\n",
    "            currentNode.right =rightNode\n",
    "            q.put(rightNode)\n",
    "    return root"
   ]
  },
  {
   "cell_type": "code",
   "execution_count": 40,
   "metadata": {},
   "outputs": [],
   "source": [
    "def insertDuplicateNode(root):\n",
    "    if root == None:\n",
    "        return\n",
    "    \n",
    "    leftTree = insertDuplicateNode(root.left)\n",
    "    rightTree = insertDuplicateNode(root.right)\n",
    "    \n",
    "    \n",
    "    duplicateRoot = BinaryTreeNode(root.data)\n",
    "    root.left = duplicateRoot\n",
    "    \n",
    "    duplicateRoot.left = leftTree\n",
    "\n",
    "    return root"
   ]
  },
  {
   "cell_type": "code",
   "execution_count": 42,
   "metadata": {},
   "outputs": [],
   "source": [
    "def printLevelATNewLine(root):\n",
    "    # Given a binary tree, print the level order traversal. Make sure each level\n",
    "    # start in new line.\n",
    "    if root==None:\n",
    "        return\n",
    "    inputQ = queue.Queue()\n",
    "    outputQ = queue.Queue()\n",
    "    inputQ.put(root)\n",
    "    while not inputQ.empty():\n",
    "        while not inputQ.empty():\n",
    "            curr = inputQ.get()\n",
    "            print(curr.data, end=' ')\n",
    "            if curr.left!=None:\n",
    "                outputQ.put(curr.left)\n",
    "            if curr.right!=None:\n",
    "                outputQ.put(curr.right)\n",
    "        print()\n",
    "        inputQ, outputQ = outputQ, inputQ"
   ]
  },
  {
   "cell_type": "code",
   "execution_count": 43,
   "metadata": {},
   "outputs": [
    {
     "name": "stdout",
     "output_type": "stream",
     "text": [
      "8 5 10 2 6 -1 -1 -1 -1 -1 7 -1 -1\n",
      "8 \n",
      "8 10 \n",
      "5 10 \n",
      "5 6 \n",
      "2 6 7 \n",
      "2 7 \n"
     ]
    }
   ],
   "source": [
    "levelOrder = [int(i) for i in input().strip().split()]\n",
    "root = buildLevelTree(levelOrder)\n",
    "insertDuplicateNode(root)\n",
    "printLevelATNewLine(root)\n"
   ]
  },
  {
   "cell_type": "code",
   "execution_count": null,
   "metadata": {},
   "outputs": [],
   "source": []
  }
 ],
 "metadata": {
  "kernelspec": {
   "display_name": "Python 3",
   "language": "python",
   "name": "python3"
  },
  "language_info": {
   "codemirror_mode": {
    "name": "ipython",
    "version": 3
   },
   "file_extension": ".py",
   "mimetype": "text/x-python",
   "name": "python",
   "nbconvert_exporter": "python",
   "pygments_lexer": "ipython3",
   "version": "3.7.4"
  }
 },
 "nbformat": 4,
 "nbformat_minor": 2
}
