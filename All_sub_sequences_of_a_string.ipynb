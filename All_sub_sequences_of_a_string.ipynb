{
 "cells": [
  {
   "cell_type": "code",
   "execution_count": 3,
   "metadata": {},
   "outputs": [],
   "source": [
    "def subSequences(string):\n",
    "    \n",
    "    if len(string) == 0:\n",
    "        return [\"\"]\n",
    "    \n",
    "    smallerSubString = subSequences(string[1:])\n",
    "    actualOutput = []\n",
    "    first = string[0]\n",
    "    \n",
    "    for i in smallerSubString:\n",
    "        actualOutput.append(i)\n",
    "        actualOutput.append(first + i)\n",
    "        \n",
    "    return actualOutput"
   ]
  },
  {
   "cell_type": "code",
   "execution_count": 12,
   "metadata": {},
   "outputs": [
    {
     "name": "stdout",
     "output_type": "stream",
     "text": [
      " a b ab c ac bc abc d ad bd abd cd acd bcd abcd\n"
     ]
    }
   ],
   "source": [
    "string = \"abcd\"\n",
    "ans = subSequences(string)\n",
    "print(*ans)"
   ]
  },
  {
   "cell_type": "code",
   "execution_count": null,
   "metadata": {},
   "outputs": [],
   "source": []
  }
 ],
 "metadata": {
  "kernelspec": {
   "display_name": "Python 3",
   "language": "python",
   "name": "python3"
  },
  "language_info": {
   "codemirror_mode": {
    "name": "ipython",
    "version": 3
   },
   "file_extension": ".py",
   "mimetype": "text/x-python",
   "name": "python",
   "nbconvert_exporter": "python",
   "pygments_lexer": "ipython3",
   "version": "3.7.4"
  }
 },
 "nbformat": 4,
 "nbformat_minor": 2
}
