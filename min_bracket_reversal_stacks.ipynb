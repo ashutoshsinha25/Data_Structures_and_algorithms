{
 "cells": [
  {
   "cell_type": "code",
   "execution_count": 188,
   "metadata": {},
   "outputs": [
    {
     "name": "stdout",
     "output_type": "stream",
     "text": [
      "\n",
      "0\n"
     ]
    }
   ],
   "source": [
    "def minBracketReversal(expr):\n",
    "    \n",
    "    if len(expr) % 2 == 0:\n",
    "        \n",
    "        s = []\n",
    "        count = 0\n",
    "        \n",
    "        for i in expr:\n",
    "            \n",
    "            if i == \"{\":\n",
    "                s.append(i)\n",
    "                \n",
    "                \n",
    "            elif i == \"}\" and len(s) == 0:\n",
    "                s.append(i)\n",
    "                \n",
    "                \n",
    "            elif i == \"}\" and len(s) > 0 and s[-1] == \"{\":\n",
    "                s.pop()\n",
    "                \n",
    "                \n",
    "            elif i == \"}\" and len(s) > 0 and s[-1] == i:\n",
    "                s.append(i)\n",
    "                \n",
    "        while len(s) != 0:\n",
    "            c1 = s.pop()\n",
    "            c2 = s.pop()\n",
    "            \n",
    "            if c1 == c2:\n",
    "                count += 1\n",
    "                \n",
    "            else:\n",
    "                count += 2\n",
    "                \n",
    "        return count\n",
    "        \n",
    "    else:\n",
    "        return  -1\n",
    "    \n",
    "expr = input()\n",
    "print(minBracketReversal(expr))"
   ]
  },
  {
   "cell_type": "code",
   "execution_count": 187,
   "metadata": {},
   "outputs": [
    {
     "data": {
      "text/plain": [
       "2"
      ]
     },
     "execution_count": 187,
     "metadata": {},
     "output_type": "execute_result"
    }
   ],
   "source": []
  },
  {
   "cell_type": "code",
   "execution_count": null,
   "metadata": {},
   "outputs": [],
   "source": []
  }
 ],
 "metadata": {
  "kernelspec": {
   "display_name": "Python 3",
   "language": "python",
   "name": "python3"
  },
  "language_info": {
   "codemirror_mode": {
    "name": "ipython",
    "version": 3
   },
   "file_extension": ".py",
   "mimetype": "text/x-python",
   "name": "python",
   "nbconvert_exporter": "python",
   "pygments_lexer": "ipython3",
   "version": "3.7.4"
  }
 },
 "nbformat": 4,
 "nbformat_minor": 2
}
