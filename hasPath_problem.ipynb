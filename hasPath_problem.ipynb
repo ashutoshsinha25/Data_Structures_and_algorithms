{
 "cells": [
  {
   "cell_type": "code",
   "execution_count": 76,
   "metadata": {},
   "outputs": [
    {
     "name": "stdout",
     "output_type": "stream",
     "text": [
      "6 3\n",
      "5 3\n",
      "0 1\n",
      "3 4\n",
      "0 3\n",
      "false\n"
     ]
    }
   ],
   "source": [
    "import queue\n",
    "class Graph:\n",
    "    def __init__(self, nVerticies):\n",
    "        self.nVerticies = nVerticies\n",
    "        self.adjMatrix = [ [0 for i in range(nVerticies)] for j in range(nVerticies)]\n",
    "        \n",
    "        \n",
    "    def addEdge(self, v1, v2):\n",
    "        self.adjMatrix[v1][v2] = 1\n",
    "        self.adjMatrix[v2][v1] = 1\n",
    "        \n",
    "    def removeEdge(self, v1, v2):\n",
    "        if self.containsEdge(v1, v2) is False:\n",
    "            return\n",
    "        self.adjMatrix[v1][v2] = 0\n",
    "        self.adjMatrix[v2][v1] = 0\n",
    "        \n",
    "    \n",
    "    def containsEdge(self, v1, v2):\n",
    "        return True if self.adjMatrix[v1][v2] > 0 else False\n",
    "    \n",
    "    \n",
    "    def __str__(self):\n",
    "        return str(self.adjMatrix)\n",
    "    \n",
    "        \n",
    "    \n",
    "    def __hasPathHelper(self, v1, v2, visited):\n",
    "        \n",
    "        visited[v1] = True\n",
    "        for i in range(self.nVerticies):\n",
    "            if i == v2 and self.adjMatrix[v1][i] == 1:\n",
    "                return True\n",
    "            \n",
    "        for i in range(self.nVerticies):\n",
    "            if self.adjMatrix[v1][i] == 1 and visited[i] is False:\n",
    "                if self.__hasPathHelper(i, v2, visited):\n",
    "                    return True\n",
    "                \n",
    "        return False\n",
    "    \n",
    "    def hasPath(self, v1, v2):\n",
    "        visited = [False for i in range(self.nVerticies)]\n",
    "        if self.__hasPathHelper(v1, v2, visited):\n",
    "            print(\"true\")\n",
    "        else:\n",
    "            print(\"false\")\n",
    "            \n",
    "V, E = [int(i) for i in input().split()]\n",
    "g = Graph(V)\n",
    "for i in range(E):\n",
    "    v1, v2 = [int(i) for i in input().split()]\n",
    "    g.addEdge(v1, v2)\n",
    "    \n",
    "v1, v2 = [int(i) for i in input().split()]\n",
    "g.hasPath(v1, v2)"
   ]
  },
  {
   "cell_type": "code",
   "execution_count": null,
   "metadata": {},
   "outputs": [],
   "source": []
  }
 ],
 "metadata": {
  "kernelspec": {
   "display_name": "Python 3",
   "language": "python",
   "name": "python3"
  },
  "language_info": {
   "codemirror_mode": {
    "name": "ipython",
    "version": 3
   },
   "file_extension": ".py",
   "mimetype": "text/x-python",
   "name": "python",
   "nbconvert_exporter": "python",
   "pygments_lexer": "ipython3",
   "version": "3.7.4"
  }
 },
 "nbformat": 4,
 "nbformat_minor": 2
}
