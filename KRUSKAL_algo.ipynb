{
 "cells": [
  {
   "cell_type": "code",
   "execution_count": 12,
   "metadata": {},
   "outputs": [],
   "source": [
    "class Edge:\n",
    "    def __init__(self, src, dest, wt):\n",
    "        self.src = src\n",
    "        self.dest = dest\n",
    "        self.wt = wt"
   ]
  },
  {
   "cell_type": "code",
   "execution_count": 13,
   "metadata": {},
   "outputs": [],
   "source": [
    "def getParent(v, parent):\n",
    "    \n",
    "    if v == parent[v]:\n",
    "        return v\n",
    "    \n",
    "    return getParent(parent[v], parent)"
   ]
  },
  {
   "cell_type": "code",
   "execution_count": 14,
   "metadata": {},
   "outputs": [],
   "source": [
    "def kruskal(edges, nVerticies):\n",
    "    parent = [i for i in range(nVerticies)]\n",
    "    edges = sorted(edges, key = lambda edge:edge.wt)\n",
    "    count = 0\n",
    "    output = []\n",
    "    i = 0\n",
    "    \n",
    "    while count < nVerticies - 1:\n",
    "        currentEdge = edges[i]\n",
    "        srcParent = getParent(currentEdge.src, parent)\n",
    "        destParent = getParent(currentEdge.dest, parent)\n",
    "        \n",
    "        if srcParent != destParent:\n",
    "            output.append(currentEdge)\n",
    "            count += 1\n",
    "            parent[srcParent] = destParent\n",
    "        i += 1\n",
    "        \n",
    "    return output"
   ]
  },
  {
   "cell_type": "code",
   "execution_count": 16,
   "metadata": {},
   "outputs": [
    {
     "name": "stdout",
     "output_type": "stream",
     "text": [
      "4 4\n",
      "0 1 2\n",
      "1 3 3\n",
      "0 2 5\n",
      "2 3 8\n",
      "0 1 2\n",
      "1 3 3\n",
      "0 2 5\n"
     ]
    }
   ],
   "source": [
    "li = [int(ele) for ele in input().split()]\n",
    "V = li[0]\n",
    "E = li[1]\n",
    "edges = []\n",
    "\n",
    "for i in range(E):\n",
    "    curr_input = [int(ele) for ele in input().split()]\n",
    "    src = curr_input[0]\n",
    "    dest = curr_input[1]\n",
    "    wt = curr_input[2]\n",
    "    edge = Edge(src, dest, wt)\n",
    "    edges.append(edge)\n",
    "output = kruskal(edges, V)\n",
    "for edge in output:\n",
    "    if edge.src < edge.dest:\n",
    "        print(str(edge.src) + \" \" + str(edge.dest) + \" \" +str(edge.wt))\n",
    "        \n",
    "    else:\n",
    "        print(str(edge.dest) + \" \" + str(edge.src) + \" \" +str(edge.wt))"
   ]
  },
  {
   "cell_type": "code",
   "execution_count": null,
   "metadata": {},
   "outputs": [],
   "source": []
  }
 ],
 "metadata": {
  "kernelspec": {
   "display_name": "Python 3",
   "language": "python",
   "name": "python3"
  },
  "language_info": {
   "codemirror_mode": {
    "name": "ipython",
    "version": 3
   },
   "file_extension": ".py",
   "mimetype": "text/x-python",
   "name": "python",
   "nbconvert_exporter": "python",
   "pygments_lexer": "ipython3",
   "version": "3.7.4"
  }
 },
 "nbformat": 4,
 "nbformat_minor": 2
}
