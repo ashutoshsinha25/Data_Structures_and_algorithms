{
 "cells": [
  {
   "cell_type": "code",
   "execution_count": 3,
   "metadata": {},
   "outputs": [],
   "source": [
    "import queue\n",
    "\n",
    "class TreeNode:\n",
    "    def __init__(self, data):\n",
    "        self.data = data\n",
    "        self.children = []\n",
    "    def __str__(self):\n",
    "        return str(self.data)\n",
    "\n",
    "def printTreeDetailed(root):\n",
    "    \n",
    "    if root != None:\n",
    "        print(root.data, ':', end = \"\")\n",
    "        for child in root.children:\n",
    "            print(child.data, ',', end = \"\")\n",
    "        print()\n",
    "            \n",
    "        for child in root.children:\n",
    "            printTreeDetailed(child)\n",
    "            \n",
    "def createLevelWiseTree(arr):\n",
    "    root = TreeNode(int(arr[0]))\n",
    "    q = [root]\n",
    "    size = len(arr)\n",
    "    i = 1\n",
    "    while i<size:\n",
    "        parent = q.pop(0)\n",
    "        childCount = int(arr[i])\n",
    "        i += 1\n",
    "        for j in range(0,childCount):\n",
    "            temp = TreeNode(int(arr[i+j]))\n",
    "            parent.children.append(temp)\n",
    "            q.append(temp)\n",
    "        i += childCount\n",
    "    return root"
   ]
  },
  {
   "cell_type": "code",
   "execution_count": 18,
   "metadata": {},
   "outputs": [],
   "source": [
    "def printLevelWiseTree(tree):\n",
    "    \n",
    "    if tree == None:\n",
    "        print(None)\n",
    "        \n",
    "    else:\n",
    "        q = queue.Queue()\n",
    "        q.put(tree)\n",
    "        \n",
    "        while not(q.empty()):\n",
    "            currNode = q.get()\n",
    "            print(str(currNode.data) + \":\", end = \"\")\n",
    "            \n",
    "            \n",
    "            lenChildren = len(currNode.children)\n",
    "            \n",
    "            \n",
    "            for i in range(lenChildren):\n",
    "                if i < lenChildren-1:                \n",
    "                    temp = currNode.children[i]\n",
    "                    q.put(temp)\n",
    "                    print(str(temp.data) + \",\", end = \"\")\n",
    "                    \n",
    "                else:\n",
    "                    temp = currNode.children[i]\n",
    "                    q.put(temp)\n",
    "                    print(str(temp.data), end = \"\")\n",
    "            print()"
   ]
  },
  {
   "cell_type": "code",
   "execution_count": 20,
   "metadata": {},
   "outputs": [
    {
     "name": "stdout",
     "output_type": "stream",
     "text": [
      "10 3 20 30 40 2 40 50 0 0 0 0\n",
      "10:20,30,40\n",
      "20:40,50\n",
      "30:\n",
      "40:\n",
      "40:\n",
      "50:\n"
     ]
    }
   ],
   "source": [
    "arr = list(int(x) for x in input().strip().split(' '))\n",
    "tree = createLevelWiseTree(arr)\n",
    "printLevelWiseTree(tree)"
   ]
  },
  {
   "cell_type": "code",
   "execution_count": null,
   "metadata": {},
   "outputs": [],
   "source": []
  }
 ],
 "metadata": {
  "kernelspec": {
   "display_name": "Python 3",
   "language": "python",
   "name": "python3"
  }
 },
 "nbformat": 4,
 "nbformat_minor": 2
}
