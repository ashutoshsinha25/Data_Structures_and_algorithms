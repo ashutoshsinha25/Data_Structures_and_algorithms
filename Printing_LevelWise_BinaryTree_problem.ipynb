{
 "cells": [
  {
   "cell_type": "code",
   "execution_count": 1,
   "metadata": {},
   "outputs": [],
   "source": [
    "class BinaryTreeNode:\n",
    "    def __init__(self, data):\n",
    "        self.data = data\n",
    "        self.left = None\n",
    "        self.right = None"
   ]
  },
  {
   "cell_type": "code",
   "execution_count": 2,
   "metadata": {},
   "outputs": [],
   "source": [
    "import queue\n",
    "def takeLevelWiseTreeInput():\n",
    "    \n",
    "    q = queue.Queue()\n",
    "    print(\"Enter Root\")\n",
    "    rootData = int(input())\n",
    "    \n",
    "    if rootData == -1:\n",
    "        return None\n",
    "    \n",
    "    root = BinaryTreeNode(rootData)\n",
    "    q.put(root)\n",
    "    \n",
    "    while not(q.empty()):\n",
    "        \n",
    "        currentNode = q.get()\n",
    "        print(\"Enter the left child of: \",currentNode.data)\n",
    "        leftChildData = int(input())\n",
    "        \n",
    "        if leftChildData != -1:\n",
    "            leftChild = BinaryTreeNode(leftChildData)\n",
    "            currentNode.left = leftChild\n",
    "            q.put(leftChild)\n",
    "            \n",
    "            \n",
    "        print(\"Enter the right child of: \",currentNode.data)\n",
    "        rightChildData = int(input())\n",
    "        \n",
    "        if rightChildData != -1:\n",
    "            rightChild = BinaryTreeNode(rightChildData)\n",
    "            currentNode.right = rightChild\n",
    "            q.put(rightChild)\n",
    "            \n",
    "    return root"
   ]
  },
  {
   "cell_type": "code",
   "execution_count": 58,
   "metadata": {},
   "outputs": [],
   "source": [
    "def printLevelWise(root):\n",
    "    if root == None:\n",
    "        print(None)\n",
    "    else:\n",
    "        q = queue.Queue()\n",
    "        q.put(root)\n",
    "        \n",
    "        while not(q.empty()):\n",
    "            currNode = q.get()\n",
    "            print(str(currNode.data) + \":\", end=\"\")\n",
    "            \n",
    "            leftChild = currNode.left\n",
    "            rightChild = currNode.right\n",
    "            \n",
    "            if leftChild is not None:\n",
    "                q.put(leftChild)\n",
    "                print(\"L:\" + str(leftChild.data) + ',', end = \"\")\n",
    "            else:\n",
    "                print(\"L:-1,\", end = \"\")\n",
    "                \n",
    "                \n",
    "            if rightChild is not None:\n",
    "                q.put(rightChild)\n",
    "                print(\"R:\" + str(rightChild.data) ,end = \"\")\n",
    "            else:\n",
    "                print(\"R:-1\", end = \"\")\n",
    "            print()"
   ]
  },
  {
   "cell_type": "code",
   "execution_count": 59,
   "metadata": {},
   "outputs": [],
   "source": [
    "def buildLevelTree(levelorder):\n",
    "    index = 0\n",
    "    length = len(levelorder)\n",
    "    if length<=0 or levelorder[0]==-1:\n",
    "        return None\n",
    "    root = BinaryTreeNode(levelorder[index])\n",
    "    index += 1\n",
    "    q = queue.Queue()\n",
    "    q.put(root)\n",
    "    while not q.empty():\n",
    "        currentNode = q.get()\n",
    "        leftChild = levelorder[index]\n",
    "        index += 1\n",
    "        if leftChild != -1:\n",
    "            leftNode = BinaryTreeNode(leftChild)\n",
    "            currentNode.left =leftNode\n",
    "            q.put(leftNode)\n",
    "        rightChild = levelorder[index]\n",
    "        index += 1\n",
    "        if rightChild != -1:\n",
    "            rightNode = BinaryTreeNode(rightChild)\n",
    "            currentNode.right =rightNode\n",
    "            q.put(rightNode)\n",
    "    return root"
   ]
  },
  {
   "cell_type": "code",
   "execution_count": 62,
   "metadata": {},
   "outputs": [
    {
     "name": "stdout",
     "output_type": "stream",
     "text": [
      "8 3 10 1 6 -1 14 -1 -1 4 7 13 -1 -1 -1 -1 -1 -1 -1\n"
     ]
    }
   ],
   "source": [
    "levelOrder = [int(i) for i in input().strip().split()]\n",
    "root = buildLevelTree(levelOrder)"
   ]
  },
  {
   "cell_type": "code",
   "execution_count": 63,
   "metadata": {},
   "outputs": [
    {
     "name": "stdout",
     "output_type": "stream",
     "text": [
      "8:L:3,R:10\n",
      "3:L:1,R:6\n",
      "10:L:-1,R:14\n",
      "1:L:-1,R:-1\n",
      "6:L:4,R:7\n",
      "14:L:13,R:-1\n",
      "4:L:-1,R:-1\n",
      "7:L:-1,R:-1\n",
      "13:L:-1,R:-1\n"
     ]
    }
   ],
   "source": [
    "printLevelWise(root)"
   ]
  },
  {
   "cell_type": "code",
   "execution_count": null,
   "metadata": {},
   "outputs": [],
   "source": []
  }
 ],
 "metadata": {
  "kernelspec": {
   "display_name": "Python 3",
   "language": "python",
   "name": "python3"
  },
  "language_info": {
   "codemirror_mode": {
    "name": "ipython",
    "version": 3
   },
   "file_extension": ".py",
   "mimetype": "text/x-python",
   "name": "python",
   "nbconvert_exporter": "python",
   "pygments_lexer": "ipython3",
   "version": "3.7.4"
  }
 },
 "nbformat": 4,
 "nbformat_minor": 2
}
