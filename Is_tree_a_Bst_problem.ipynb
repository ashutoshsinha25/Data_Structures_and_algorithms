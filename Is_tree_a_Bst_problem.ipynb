{
 "cells": [
  {
   "cell_type": "code",
   "execution_count": 9,
   "metadata": {},
   "outputs": [],
   "source": [
    "import queue\n",
    "class BinaryTreeNode:\n",
    "    def __init__(self, data):\n",
    "        self.data = data\n",
    "        self.left = None\n",
    "        self.right = None\n",
    "\n",
    "\n",
    "def takeLevelWiseTreeInput():\n",
    "    \n",
    "    q = queue.Queue()\n",
    "    print(\"Enter Root\")\n",
    "    rootData = int(input())\n",
    "    \n",
    "    if rootData == -1:\n",
    "        return None\n",
    "    \n",
    "    root = BinaryTreeNode(rootData)\n",
    "    q.put(root)\n",
    "    \n",
    "    while not(q.empty()):\n",
    "        \n",
    "        currentNode = q.get()\n",
    "        print(\"Enter the left child of: \",currentNode.data)\n",
    "        leftChildData = int(input())\n",
    "        \n",
    "        if leftChildData != -1:\n",
    "            leftChild = BinaryTreeNode(leftChildData)\n",
    "            currentNode.left = leftChild\n",
    "            q.put(leftChild)\n",
    "            \n",
    "            \n",
    "        print(\"Enter the right child of: \",currentNode.data)\n",
    "        rightChildData = int(input())\n",
    "        \n",
    "        if rightChildData != -1:\n",
    "            rightChild = BinaryTreeNode(rightChildData)\n",
    "            currentNode.right = rightChild\n",
    "            q.put(rightChild)\n",
    "            \n",
    "    return root\n",
    "\n",
    "\n",
    "def printTreeDetailed(root):\n",
    "    if root == None:\n",
    "        return\n",
    "    \n",
    "    \n",
    "    print(root.data, end = ': ')\n",
    "    \n",
    "    if root.left != None:\n",
    "        print(\"L:\", root.left.data, end = ':')\n",
    "        \n",
    "        \n",
    "    if root.right != None:\n",
    "        print(\"R:\", root.right.data, end = \"\")\n",
    "    \n",
    "    print()\n",
    "    printTreeDetailed(root.left)\n",
    "    printTreeDetailed(root.right)"
   ]
  },
  {
   "cell_type": "code",
   "execution_count": 25,
   "metadata": {},
   "outputs": [],
   "source": [
    "def minTree(root):\n",
    "    if root == None:\n",
    "        return 100000\n",
    "    \n",
    "    \n",
    "    leftMin = minTree(root.left)\n",
    "    rightMin = minTree(root.right)\n",
    "    return min(leftMin, rightMin, root.data)"
   ]
  },
  {
   "cell_type": "code",
   "execution_count": 26,
   "metadata": {},
   "outputs": [],
   "source": [
    "def maxTree(root):\n",
    "    if root == None:\n",
    "        return -100000\n",
    "    \n",
    "    \n",
    "    leftMax = maxTree(root.left)\n",
    "    rightMax = maxTree(root.right)\n",
    "    return max(leftMax, rightMax, root.data)"
   ]
  },
  {
   "cell_type": "code",
   "execution_count": 27,
   "metadata": {},
   "outputs": [],
   "source": [
    "def isBst(root):\n",
    "    if root == None:\n",
    "        return True\n",
    "    \n",
    "    leftMax = maxTree(root.left)\n",
    "    rightMin = minTree(root.right)\n",
    "    \n",
    "    if root.data > rightMin or root.data <= leftMax:\n",
    "        return False\n",
    "    \n",
    "    isLeftBst = isBst(root.left)\n",
    "    isRightBst = isBst(root.right)\n",
    "    \n",
    "    return isLeftBst and isRightBst"
   ]
  },
  {
   "cell_type": "code",
   "execution_count": 29,
   "metadata": {},
   "outputs": [
    {
     "name": "stdout",
     "output_type": "stream",
     "text": [
      "Enter Root\n",
      "1\n",
      "Enter the left child of:  1\n",
      "2\n",
      "Enter the right child of:  1\n",
      "6\n",
      "Enter the left child of:  2\n",
      "1\n",
      "Enter the right child of:  2\n",
      "10\n",
      "Enter the left child of:  6\n",
      "5\n",
      "Enter the right child of:  6\n",
      "7\n",
      "Enter the left child of:  1\n",
      "-1\n",
      "Enter the right child of:  1\n",
      "-1\n",
      "Enter the left child of:  10\n",
      "-1\n",
      "Enter the right child of:  10\n",
      "-1\n",
      "Enter the left child of:  5\n",
      "-1\n",
      "Enter the right child of:  5\n",
      "-1\n",
      "Enter the left child of:  7\n",
      "-1\n",
      "Enter the right child of:  7\n",
      "-1\n",
      "1: L: 2:R: 6\n",
      "2: L: 1:R: 10\n",
      "1: \n",
      "10: \n",
      "6: L: 5:R: 7\n",
      "5: \n",
      "7: \n"
     ]
    },
    {
     "data": {
      "text/plain": [
       "False"
      ]
     },
     "execution_count": 29,
     "metadata": {},
     "output_type": "execute_result"
    }
   ],
   "source": [
    "root = takeLevelWiseTreeInput()\n",
    "printTreeDetailed(root)\n",
    "isBst(root)"
   ]
  },
  {
   "cell_type": "code",
   "execution_count": null,
   "metadata": {},
   "outputs": [],
   "source": []
  }
 ],
 "metadata": {
  "kernelspec": {
   "display_name": "Python 3",
   "language": "python",
   "name": "python3"
  },
  "language_info": {
   "codemirror_mode": {
    "name": "ipython",
    "version": 3
   },
   "file_extension": ".py",
   "mimetype": "text/x-python",
   "name": "python",
   "nbconvert_exporter": "python",
   "pygments_lexer": "ipython3",
   "version": "3.7.4"
  }
 },
 "nbformat": 4,
 "nbformat_minor": 2
}
