{
 "cells": [
  {
   "cell_type": "code",
   "execution_count": 34,
   "metadata": {},
   "outputs": [
    {
     "name": "stdout",
     "output_type": "stream",
     "text": [
      "1 2 3 4 5 6 -1\n",
      "6 5 4 3 2 1 \n"
     ]
    }
   ],
   "source": [
    "class Node:\n",
    "    def __init__(self, data):\n",
    "        self.data = data\n",
    "        self.next = None\n",
    "    \n",
    "\n",
    "def ll(arr):\n",
    "    if len(arr)==0:\n",
    "        return None\n",
    "    head = Node(arr[0])\n",
    "    last = head\n",
    "    for data in arr[1:]:\n",
    "        last.next = Node(data)\n",
    "        last = last.next\n",
    "    return head\n",
    "\n",
    "def printll(head):\n",
    "    while head:\n",
    "        print(head.data, end=' ')\n",
    "        head = head.next\n",
    "    print()\n",
    "\n",
    "\n",
    "def func(head, prev):\n",
    "    if head == None:\n",
    "        return prev\n",
    "    \n",
    "    sNext = head.next\n",
    "    head.next = prev\n",
    "    prev = head\n",
    "    head = sNext\n",
    "    return func(head, prev)\n",
    "\n",
    "\n",
    "def func1(head):\n",
    "    \n",
    "    if head == None:\n",
    "        return \n",
    "    \n",
    "    if head.next == None:\n",
    "        return head\n",
    "    \n",
    "    smallHead = func1(head.next)\n",
    "    k = smallHead\n",
    "    while k is not None:\n",
    "        if k.next is None:\n",
    "            k.next = head\n",
    "            head.next = None\n",
    "            \n",
    "        k = k.next\n",
    "\n",
    "\n",
    "    return smallHead\n",
    "     \n",
    "from sys import setrecursionlimit\n",
    "setrecursionlimit(11000)\n",
    "# Read the link list elements including -1\n",
    "arr=list(int(i) for i in input().strip().split(' '))\n",
    "head = ll(arr[:-1])\n",
    "prev = None\n",
    "head = func1(head)\n",
    "#printing the ll\n",
    "printll(head)"
   ]
  },
  {
   "cell_type": "code",
   "execution_count": 1,
   "metadata": {},
   "outputs": [
    {
     "name": "stdout",
     "output_type": "stream",
     "text": [
      "1 2 3 4 5 -1\n",
      "5 4 3 2 1 \n"
     ]
    }
   ],
   "source": [
    "class Node:\n",
    "    def __init__(self, data):\n",
    "        self.data = data\n",
    "        self.next = None\n",
    "    \n",
    "\n",
    "def ll(arr):\n",
    "    if len(arr)==0:\n",
    "        return None\n",
    "    head = Node(arr[0])\n",
    "    last = head\n",
    "    for data in arr[1:]:\n",
    "        last.next = Node(data)\n",
    "        last = last.next\n",
    "    return head\n",
    "\n",
    "def printll(head):\n",
    "    while head:\n",
    "        print(head.data, end=' ')\n",
    "        head = head.next\n",
    "    print()\n",
    "\n",
    "def func1(head):\n",
    "    \n",
    "    if head == None:\n",
    "        return \n",
    "    \n",
    "    if head.next == None:\n",
    "        return head\n",
    "    \n",
    "    smallHead = func1(head.next)\n",
    "    \n",
    "    s = head\n",
    "    head = head.next\n",
    "    head.next = s\n",
    "    s.next = None\n",
    "\n",
    "    return smallHead\n",
    "\n",
    "from sys import setrecursionlimit\n",
    "setrecursionlimit(11000)\n",
    "# Read the link list elements including -1\n",
    "arr=list(int(i) for i in input().strip().split(' '))\n",
    "head = ll(arr[:-1])\n",
    "prev = None\n",
    "head = func1(head)\n",
    "#printing the ll\n",
    "printll(head)"
   ]
  },
  {
   "cell_type": "code",
   "execution_count": null,
   "metadata": {},
   "outputs": [],
   "source": []
  }
 ],
 "metadata": {
  "kernelspec": {
   "display_name": "Python 3",
   "language": "python",
   "name": "python3"
  },
  "language_info": {
   "codemirror_mode": {
    "name": "ipython",
    "version": 3
   },
   "file_extension": ".py",
   "mimetype": "text/x-python",
   "name": "python",
   "nbconvert_exporter": "python",
   "pygments_lexer": "ipython3",
   "version": "3.7.4"
  }
 },
 "nbformat": 4,
 "nbformat_minor": 2
}
