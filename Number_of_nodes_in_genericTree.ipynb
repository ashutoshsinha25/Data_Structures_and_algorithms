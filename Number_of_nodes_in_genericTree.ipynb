{
 "cells": [
  {
   "cell_type": "code",
   "execution_count": 1,
   "metadata": {},
   "outputs": [],
   "source": [
    "class TreeNode:\n",
    "    def __init__(self, data):\n",
    "        self.data = data\n",
    "        self.children = []"
   ]
  },
  {
   "cell_type": "code",
   "execution_count": 2,
   "metadata": {},
   "outputs": [],
   "source": [
    "def printTreeDetailed(root):\n",
    "    \n",
    "    if root != None:\n",
    "        print(root.data, ':', end = \"\")\n",
    "        for child in root.children:\n",
    "            print(child.data, ',', end = \"\")\n",
    "        print()\n",
    "            \n",
    "        for child in root.children:\n",
    "            printTreeDetailed(child)"
   ]
  },
  {
   "cell_type": "code",
   "execution_count": 4,
   "metadata": {},
   "outputs": [],
   "source": [
    "def takeTreeInput():\n",
    "    \n",
    "    print(\"Enter root data: \")\n",
    "    rootData = int(input())\n",
    "    if rootData == -1:\n",
    "        return None\n",
    "    \n",
    "    root = TreeNode(rootData)\n",
    "    print(\"Enter the number of Children of \", rootData)\n",
    "    childrenCount = int(input())\n",
    "    for i in range(childrenCount):\n",
    "        child = takeTreeInput()\n",
    "        root.children.append(child)\n",
    "    \n",
    "    return root"
   ]
  },
  {
   "cell_type": "code",
   "execution_count": 9,
   "metadata": {},
   "outputs": [],
   "source": [
    "def numNodes(root):\n",
    "    \n",
    "    if root != None:\n",
    "        count = 1\n",
    "        for child in root.children:\n",
    "            count += numNodes(child)\n",
    "        return count\n",
    "    return 0"
   ]
  },
  {
   "cell_type": "code",
   "execution_count": 10,
   "metadata": {},
   "outputs": [
    {
     "name": "stdout",
     "output_type": "stream",
     "text": [
      "Enter root data: \n",
      "1\n",
      "Enter the number of Children of  1\n",
      "3\n",
      "Enter root data: \n",
      "2\n",
      "Enter the number of Children of  2\n",
      "0\n",
      "Enter root data: \n",
      "3\n",
      "Enter the number of Children of  3\n",
      "2\n",
      "Enter root data: \n",
      "5\n",
      "Enter the number of Children of  5\n",
      "0\n",
      "Enter root data: \n",
      "6\n",
      "Enter the number of Children of  6\n",
      "3\n",
      "Enter root data: \n",
      "7\n",
      "Enter the number of Children of  7\n",
      "0\n",
      "Enter root data: \n",
      "8\n",
      "Enter the number of Children of  8\n",
      "0\n",
      "Enter root data: \n",
      "9\n",
      "Enter the number of Children of  9\n",
      "0\n",
      "Enter root data: \n",
      "4\n",
      "Enter the number of Children of  4\n",
      "0\n",
      "1 :2 ,3 ,4 ,\n",
      "2 :\n",
      "3 :5 ,6 ,\n",
      "5 :\n",
      "6 :7 ,8 ,9 ,\n",
      "7 :\n",
      "8 :\n",
      "9 :\n",
      "4 :\n",
      "\n",
      "9\n"
     ]
    }
   ],
   "source": [
    "root = takeTreeInput()\n",
    "printTreeDetailed(root)\n",
    "print()\n",
    "\n",
    "print(numNodes(root))"
   ]
  },
  {
   "cell_type": "code",
   "execution_count": null,
   "metadata": {},
   "outputs": [],
   "source": []
  }
 ],
 "metadata": {
  "kernelspec": {
   "display_name": "Python 3",
   "language": "python",
   "name": "python3"
  },
  "language_info": {
   "codemirror_mode": {
    "name": "ipython",
    "version": 3
   },
   "file_extension": ".py",
   "mimetype": "text/x-python",
   "name": "python",
   "nbconvert_exporter": "python",
   "pygments_lexer": "ipython3",
   "version": "3.7.4"
  }
 },
 "nbformat": 4,
 "nbformat_minor": 2
}
